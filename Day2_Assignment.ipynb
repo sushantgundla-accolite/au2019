{
 "cells": [
  {
   "cell_type": "markdown",
   "metadata": {},
   "source": [
    "<h1><center>Day2 Assignment (Python Advance)<center></h1>"
   ]
  },
  {
   "cell_type": "markdown",
   "metadata": {},
   "source": [
    "####  File Handling - Extract a zip file and print the contents of the files in the zipped file"
   ]
  },
  {
   "cell_type": "code",
   "execution_count": 1,
   "metadata": {},
   "outputs": [
    {
     "name": "stdout",
     "output_type": "stream",
     "text": [
      "HelloWorld.c\n",
      "\n",
      "#include <iostream>\n",
      "using namespace std;\n",
      "int main()\n",
      "{\n",
      "cout << \"Hello, World!\";\n",
      "return 0;\n",
      "}\n",
      "------------------------------------------------------------------------------------------------------------------------\n",
      "index.html\n",
      "\n",
      "<html>\n",
      "<body>\n",
      "\n",
      "<h2>JavaScript Strings</h2>\n",
      "\n",
      "<p>Strings can be written with double or single quotes.</p>\n",
      "\n",
      "<p id=\"demo\"></p>\n",
      "\n",
      "<script>\n",
      "document.getElementById(\"demo\").innerHTML = 'John Doe';\n",
      "</script>\n",
      "\n",
      "</body>\n",
      "</html>\n",
      "\n",
      "------------------------------------------------------------------------------------------------------------------------\n",
      "PythonZipfile.txt\n",
      "\n",
      "Python ZIPfile is an ideal way to group similar files and compress large files to reduce their size. The compression is lossless. This means that using the compression algorithm, we can operate on the compressed data to perfectly reconstruct the original data. So, in Python zipfile is an archive file format and a compression standard; it is a single file that holds compressed files.\n",
      "------------------------------------------------------------------------------------------------------------------------\n"
     ]
    }
   ],
   "source": [
    "# extract zip file and read and print content of all files\n",
    "\n",
    "from zipfile import ZipFile\n",
    "file = 'DataFiles.zip'\n",
    "try:\n",
    "    zipfile = ZipFile(file,'r')\n",
    "    \n",
    "    # get all the filenames in 'filenames'\n",
    "    filenames = []\n",
    "    [filenames.append(str(zipfile.filelist[i]).split(\"'\")[1]) for i in range(len(zipfile.filelist))]\n",
    "    \n",
    "    # extract all the files in the working directory\n",
    "    zipfile.extractall()\n",
    "    \n",
    "    for i,file in enumerate(filenames):\n",
    "        with open(file,'r') as file:\n",
    "            print(filenames[i],end='\\n\\n')\n",
    "            print(file.read())\n",
    "            print('-'*120)\n",
    "\n",
    "except FileNotFoundError:\n",
    "    print('Zip file not found!!')\n",
    "\n",
    "finally:\n",
    "    pass"
   ]
  },
  {
   "cell_type": "code",
   "execution_count": null,
   "metadata": {},
   "outputs": [],
   "source": []
  },
  {
   "cell_type": "markdown",
   "metadata": {},
   "source": [
    "#### File Handling - take input csv file and print the table sorted by EmployeeID"
   ]
  },
  {
   "cell_type": "code",
   "execution_count": 2,
   "metadata": {},
   "outputs": [
    {
     "data": {
      "text/html": [
       "<div>\n",
       "<style scoped>\n",
       "    .dataframe tbody tr th:only-of-type {\n",
       "        vertical-align: middle;\n",
       "    }\n",
       "\n",
       "    .dataframe tbody tr th {\n",
       "        vertical-align: top;\n",
       "    }\n",
       "\n",
       "    .dataframe thead th {\n",
       "        text-align: right;\n",
       "    }\n",
       "</style>\n",
       "<table border=\"1\" class=\"dataframe\">\n",
       "  <thead>\n",
       "    <tr style=\"text-align: right;\">\n",
       "      <th></th>\n",
       "      <th>EmployeeID</th>\n",
       "      <th>EmployeeName</th>\n",
       "      <th>DepartmentName</th>\n",
       "      <th>DOB</th>\n",
       "    </tr>\n",
       "  </thead>\n",
       "  <tbody>\n",
       "    <tr>\n",
       "      <th>0</th>\n",
       "      <td>201</td>\n",
       "      <td>Ricardo Barry</td>\n",
       "      <td>Production</td>\n",
       "      <td>1987-10-26</td>\n",
       "    </tr>\n",
       "    <tr>\n",
       "      <th>2</th>\n",
       "      <td>212</td>\n",
       "      <td>Viola Cheers</td>\n",
       "      <td>Purchasing</td>\n",
       "      <td>1945-12-03</td>\n",
       "    </tr>\n",
       "    <tr>\n",
       "      <th>5</th>\n",
       "      <td>212</td>\n",
       "      <td>Franklyn Charters</td>\n",
       "      <td>Accounting and Finance</td>\n",
       "      <td>1965-05-13</td>\n",
       "    </tr>\n",
       "    <tr>\n",
       "      <th>6</th>\n",
       "      <td>228</td>\n",
       "      <td>KathrynRoberti</td>\n",
       "      <td>Purchasing</td>\n",
       "      <td>1963-01-27</td>\n",
       "    </tr>\n",
       "    <tr>\n",
       "      <th>8</th>\n",
       "      <td>234</td>\n",
       "      <td>Andra Mcquiggan</td>\n",
       "      <td>Production</td>\n",
       "      <td>1994-05-09</td>\n",
       "    </tr>\n",
       "    <tr>\n",
       "      <th>3</th>\n",
       "      <td>265</td>\n",
       "      <td>Ethyl Belle</td>\n",
       "      <td>Marketing</td>\n",
       "      <td>1976-07-07</td>\n",
       "    </tr>\n",
       "    <tr>\n",
       "      <th>4</th>\n",
       "      <td>287</td>\n",
       "      <td>Liza Winder</td>\n",
       "      <td>HR</td>\n",
       "      <td>1987-11-16</td>\n",
       "    </tr>\n",
       "    <tr>\n",
       "      <th>7</th>\n",
       "      <td>287</td>\n",
       "      <td>Debbra Byron</td>\n",
       "      <td>Accounting and Finance</td>\n",
       "      <td>1995-11-08</td>\n",
       "    </tr>\n",
       "    <tr>\n",
       "      <th>9</th>\n",
       "      <td>293</td>\n",
       "      <td>Jami Frierso</td>\n",
       "      <td>R &amp; D</td>\n",
       "      <td>1990-07-30</td>\n",
       "    </tr>\n",
       "    <tr>\n",
       "      <th>1</th>\n",
       "      <td>298</td>\n",
       "      <td>Eula Kingsley</td>\n",
       "      <td>R &amp; D</td>\n",
       "      <td>1965-08-09</td>\n",
       "    </tr>\n",
       "  </tbody>\n",
       "</table>\n",
       "</div>"
      ],
      "text/plain": [
       "   EmployeeID       EmployeeName          DepartmentName        DOB\n",
       "0         201      Ricardo Barry              Production 1987-10-26\n",
       "2         212       Viola Cheers              Purchasing 1945-12-03\n",
       "5         212  Franklyn Charters  Accounting and Finance 1965-05-13\n",
       "6         228    KathrynRoberti               Purchasing 1963-01-27\n",
       "8         234    Andra Mcquiggan              Production 1994-05-09\n",
       "3         265        Ethyl Belle               Marketing 1976-07-07\n",
       "4         287        Liza Winder                      HR 1987-11-16\n",
       "7         287       Debbra Byron  Accounting and Finance 1995-11-08\n",
       "9         293       Jami Frierso                   R & D 1990-07-30\n",
       "1         298      Eula Kingsley                   R & D 1965-08-09"
      ]
     },
     "metadata": {},
     "output_type": "display_data"
    },
    {
     "name": "stdout",
     "output_type": "stream",
     "text": [
      "['201', 'Ricardo Barry', 'Production', '26/10/1987']\n",
      "['212', 'Viola Cheers', 'Purchasing', '12/03/1945']\n",
      "['212', 'Franklyn Charters', 'Accounting and Finance', '13/05/1965']\n",
      "['228', 'KathrynRoberti ', 'Purchasing', '27/01/1963']\n",
      "['234', 'Andra Mcquiggan', 'Production', '05/09/1994']\n",
      "['265', 'Ethyl Belle', 'Marketing', '07/07/1976']\n",
      "['287', 'Liza Winder', 'HR', '16/11/1987']\n",
      "['287', 'Debbra Byron', 'Accounting and Finance', '11/08/1995']\n",
      "['293', 'Jami Frierso', 'R & D', '30/07/199']\n",
      "['298', 'Eula Kingsley', 'R & D', '08/09/1965']\n"
     ]
    },
    {
     "data": {
      "text/plain": [
       "[None, None, None, None, None, None, None, None, None, None]"
      ]
     },
     "execution_count": 2,
     "metadata": {},
     "output_type": "execute_result"
    }
   ],
   "source": [
    "# Print table employeeID empolyeeName Department employeeDOB sorted by employeeID\n",
    "\n",
    "# 1st approach (using pandas)\n",
    "import pandas as pd\n",
    "\n",
    "try:\n",
    "    df = pd.read_csv('EmployeeDetails.csv') # read the csv into dataframe\n",
    "except FileNotFoundError:\n",
    "    print('File not found!!')\n",
    "\n",
    "try:\n",
    "    df.DOB = pd.to_datetime(df.DOB) # convert DOB to datetime object\n",
    "except TypeError:\n",
    "    print('The String in DOB is not a date-time') \n",
    "\n",
    "display(df.sort_values(by='EmployeeID'))\n",
    "\n",
    "    \n",
    "# 2nd approach (no packages)\n",
    "\n",
    "table = []\n",
    "\n",
    "try:\n",
    "    file = open('EmployeeDetails.csv',mode='r',encoding='utf8') # open the file\n",
    "except FileNotFoundError:\n",
    "    print('File not found!!')\n",
    "\n",
    "# read each line, convert into list and put into 2d table\n",
    "for line in file.readlines():\n",
    "    table.append(line[:-1].split(',')) # split on ',' assuming csv\n",
    "\n",
    "header = table.pop(0) # pop the first row and put into headers\n",
    "\n",
    "table = sorted(table,key=lambda l:l[0], reverse=False) # sort on the basis of EnployeeID\n",
    "[print(row) for row in table]"
   ]
  },
  {
   "cell_type": "code",
   "execution_count": null,
   "metadata": {},
   "outputs": [],
   "source": []
  },
  {
   "cell_type": "markdown",
   "metadata": {},
   "source": [
    "#### Generate a 16 digit random number"
   ]
  },
  {
   "cell_type": "code",
   "execution_count": 3,
   "metadata": {},
   "outputs": [],
   "source": [
    "from random import random\n",
    "\n",
    "def generateRandom(seed = int(random()*100)):\n",
    "    '''\n",
    "    Returns a random 16 digit number\n",
    "    '''\n",
    "    def rand():\n",
    "        return random()*100\n",
    "\n",
    "    x = rand() * seed\n",
    "    for i in range(int(rand()) * int(rand())):\n",
    "        x+=rand()\n",
    "    return id(x) * int(x) % 10**16"
   ]
  },
  {
   "cell_type": "code",
   "execution_count": 4,
   "metadata": {
    "scrolled": true
   },
   "outputs": [
    {
     "data": {
      "text/plain": [
       "6629675695376248"
      ]
     },
     "execution_count": 4,
     "metadata": {},
     "output_type": "execute_result"
    }
   ],
   "source": [
    "generateRandom(seed = 24)"
   ]
  },
  {
   "cell_type": "code",
   "execution_count": null,
   "metadata": {},
   "outputs": [],
   "source": []
  },
  {
   "cell_type": "markdown",
   "metadata": {},
   "source": [
    "#### Create student class and create a List of student objects"
   ]
  },
  {
   "cell_type": "code",
   "execution_count": 5,
   "metadata": {},
   "outputs": [],
   "source": [
    "# Data for Student Class\n",
    "rollnos = [int(random()*10000) for i in range(10)]\n",
    "names = ['Minda Brainard',\n",
    " 'Willy Amburn',\n",
    " 'Fannie Stoney',\n",
    " 'Masako Rochford',\n",
    " 'Lyn Pennypacker',\n",
    " 'Tobi Dunfee',\n",
    " 'Claretha Vannatta',\n",
    " 'Colin Leeman',\n",
    " 'Madge Moody',\n",
    " 'Ivan Sugden']"
   ]
  },
  {
   "cell_type": "code",
   "execution_count": 6,
   "metadata": {},
   "outputs": [],
   "source": [
    "# Student class creation\n",
    "class Student():\n",
    "    def __init__(self, rollno, name):\n",
    "        self.rollno = rollno\n",
    "        self.name = name\n",
    "    \n",
    "    def display(self):\n",
    "        '''\n",
    "        Displays the deatils of student - Roll no. and Name\n",
    "        '''\n",
    "        print('Roll No:',self.rollno,'and Name:',self.name)"
   ]
  },
  {
   "cell_type": "code",
   "execution_count": 7,
   "metadata": {},
   "outputs": [
    {
     "name": "stdout",
     "output_type": "stream",
     "text": [
      "Roll No: 5418 and Name: Minda Brainard\n",
      "Roll No: 1413 and Name: Willy Amburn\n",
      "Roll No: 7801 and Name: Fannie Stoney\n",
      "Roll No: 2038 and Name: Masako Rochford\n",
      "Roll No: 4998 and Name: Lyn Pennypacker\n",
      "Roll No: 3765 and Name: Tobi Dunfee\n",
      "Roll No: 8786 and Name: Claretha Vannatta\n",
      "Roll No: 8467 and Name: Colin Leeman\n",
      "Roll No: 7327 and Name: Madge Moody\n",
      "Roll No: 4180 and Name: Ivan Sugden\n"
     ]
    }
   ],
   "source": [
    "# List of Student objects\n",
    "student_list = [Student(rollno,name) for rollno,name in list(zip(rollnos, names))]\n",
    "\n",
    "for student in student_list:\n",
    "    student.display()"
   ]
  },
  {
   "cell_type": "markdown",
   "metadata": {},
   "source": [
    "#### Extend the Student class to include the marks of the student"
   ]
  },
  {
   "cell_type": "code",
   "execution_count": 8,
   "metadata": {},
   "outputs": [],
   "source": [
    "#StudentMarks class creation\n",
    "class StudentMarks(Student):\n",
    "    def __init__(self,rollno,name,marks):\n",
    "        Student.__init__(self, rollno,name)\n",
    "        self.marks = marks\n",
    "    \n",
    "    def display(self):\n",
    "        '''\n",
    "        Displays the deatils of student - Roll no., Name and Marks\n",
    "        '''\n",
    "        print('Roll No:',self.rollno,', Name:',self.name,'and Marks:',self.marks)"
   ]
  },
  {
   "cell_type": "code",
   "execution_count": 9,
   "metadata": {},
   "outputs": [],
   "source": [
    "marks= [25,23,28,12,29,19,18,23,29,30]\n",
    "\n",
    "#List of StudentMarks objects\n",
    "student_marks_list = []\n",
    "for i,student in enumerate(student_list):\n",
    "    student_marks_list.append(StudentMarks(student.rollno,student.name,marks[i]))"
   ]
  },
  {
   "cell_type": "code",
   "execution_count": 10,
   "metadata": {},
   "outputs": [
    {
     "name": "stdout",
     "output_type": "stream",
     "text": [
      "Roll No: 5418 , Name: Minda Brainard and Marks: 25\n",
      "Roll No: 1413 , Name: Willy Amburn and Marks: 23\n",
      "Roll No: 7801 , Name: Fannie Stoney and Marks: 28\n",
      "Roll No: 2038 , Name: Masako Rochford and Marks: 12\n",
      "Roll No: 4998 , Name: Lyn Pennypacker and Marks: 29\n",
      "Roll No: 3765 , Name: Tobi Dunfee and Marks: 19\n",
      "Roll No: 8786 , Name: Claretha Vannatta and Marks: 18\n",
      "Roll No: 8467 , Name: Colin Leeman and Marks: 23\n",
      "Roll No: 7327 , Name: Madge Moody and Marks: 29\n",
      "Roll No: 4180 , Name: Ivan Sugden and Marks: 30\n"
     ]
    }
   ],
   "source": [
    "# display function on all the objects of StudentMarks class \n",
    "for student in student_marks_list:\n",
    "    student.display()"
   ]
  },
  {
   "cell_type": "code",
   "execution_count": null,
   "metadata": {},
   "outputs": [],
   "source": []
  }
 ],
 "metadata": {
  "kernelspec": {
   "display_name": "Python 3",
   "language": "python",
   "name": "python3"
  },
  "language_info": {
   "codemirror_mode": {
    "name": "ipython",
    "version": 3
   },
   "file_extension": ".py",
   "mimetype": "text/x-python",
   "name": "python",
   "nbconvert_exporter": "python",
   "pygments_lexer": "ipython3",
   "version": "3.7.3"
  }
 },
 "nbformat": 4,
 "nbformat_minor": 2
}
