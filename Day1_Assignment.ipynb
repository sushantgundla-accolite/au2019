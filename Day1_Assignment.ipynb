{
 "cells": [
  {
   "cell_type": "markdown",
   "metadata": {},
   "source": [
    "<h1><center>Day1 Assignment (Python Basics)<center></h1>"
   ]
  },
  {
   "cell_type": "markdown",
   "metadata": {},
   "source": [
    "#### Print if the words are Palindrome or not (function should accept dynamic number of parameters)"
   ]
  },
  {
   "cell_type": "code",
   "execution_count": 1,
   "metadata": {},
   "outputs": [
    {
     "name": "stdout",
     "output_type": "stream",
     "text": [
      "Accolite is not a Palindrome\n",
      "Noon is Palindrome\n",
      "Bumper is not a Palindrome\n",
      "Corporate is not a Palindrome\n",
      "Malayalam is Palindrome\n",
      "Madam is Palindrome\n",
      "Civic is Palindrome\n"
     ]
    }
   ],
   "source": [
    "def pal(word):\n",
    "    '''\n",
    "    Returns True if the string is Palindrome else returns False\n",
    "    '''\n",
    "    for i in range(len(word)//2):\n",
    "        return False if word[i] != word[len(word)-i-1] else True\n",
    "\n",
    "def isPalindrome(*words):\n",
    "    '''\n",
    "    Returns:\n",
    "    1. A list with truth values weather a string is palindrome or not\n",
    "    2. A list of all the strings passed\n",
    "    '''\n",
    "    truth = [pal(word.lower()) for word in words]\n",
    "    return truth, list(words)\n",
    "\n",
    "if __name__ == \"__main__\": \n",
    "    truth,listofwords = isPalindrome('Accolite', 'Noon', 'Bumper', 'Corporate', 'Malayalam', 'Madam', 'Civic')\n",
    "    for t,word in zip(truth,listofwords):\n",
    "        print(word,'is Palindrome') if t == True else print(word,'is not a Palindrome')"
   ]
  },
  {
   "cell_type": "code",
   "execution_count": null,
   "metadata": {},
   "outputs": [],
   "source": []
  },
  {
   "cell_type": "markdown",
   "metadata": {},
   "source": [
    "#### Print the number(sum of ordinal values of alphabets in a word) only if the word is a Palindrome"
   ]
  },
  {
   "cell_type": "code",
   "execution_count": 2,
   "metadata": {},
   "outputs": [
    {
     "name": "stdout",
     "output_type": "stream",
     "text": [
      "Noon 54\n",
      "Malayalam 70\n",
      "Madam 27\n",
      "Civic 41\n"
     ]
    }
   ],
   "source": [
    "def getNumber(*words):\n",
    "    '''\n",
    "    Prints the the string and a number which is the sum of ordinal values of alphabets in the string only \n",
    "    if the string is Palindrome\n",
    "    '''\n",
    "    truth,listofwords = isPalindrome(*words)\n",
    "    for t,word in zip(truth,listofwords):\n",
    "        print(word,sum([alphabetorder[i.lower()] for i in word])) if t == True else None\n",
    "\n",
    "if __name__ == \"__main__\":\n",
    "    alphabetorder = dict(zip('abcdefghijklmnopqrstuvwxyz',range(26)))\n",
    "    getNumber('Accolite', 'Noon', 'Bumper', 'Corporate', 'Malayalam', 'Madam', 'Civic')"
   ]
  },
  {
   "cell_type": "markdown",
   "metadata": {},
   "source": [
    "#### Check the number if 1. even/odd 2. armstrong number "
   ]
  },
  {
   "cell_type": "code",
   "execution_count": 3,
   "metadata": {},
   "outputs": [
    {
     "name": "stdout",
     "output_type": "stream",
     "text": [
      "Noon 54  is an Even Number but not an Armstrong Number.\n",
      "Malayalam 70  is an Even Number but not an Armstrong Number.\n",
      "Madam 27  is an Odd number but not an Armstrong Number.\n",
      "Civic 41  is an Odd number but not an Armstrong Number.\n"
     ]
    }
   ],
   "source": [
    "def isEven(x):\n",
    "    '''\n",
    "    Returns the number if the number is not integer.\n",
    "    Return True if the number passed is even, else returns False\n",
    "    '''\n",
    "    if(int(x) == x):\n",
    "        return True if (x%2 == 0) else False\n",
    "    else:\n",
    "        return x\n",
    "\n",
    "def isArmstrong(x):\n",
    "    '''\n",
    "    Returns True if the number is Armstrong number and the number is integer, else returns False\n",
    "    '''\n",
    "    return True if (x == sum([int(i) ** len(str(x)) for i in str(x)]) and int(x) == x) else False\n",
    "\n",
    "if __name__ == \"__main__\":\n",
    "    truth,listofwords = isPalindrome('Accolite', 'Noon', 'Bumper', 'Corporate', 'Malayalam', 'Madam', 'Civic')\n",
    "    for t,word in zip(truth,listofwords):\n",
    "        number = sum([alphabetorder[i.lower()] for i in word])\n",
    "        if t == True:\n",
    "            print(word,number,' is an Even Number',end = '') if isEven(number) == True else print(word,number,' is an Odd number',end = '')\n",
    "            print(' and an Amrstrong Number.') if isArmstrong(number) == True else print(' but not an Armstrong Number.')"
   ]
  },
  {
   "cell_type": "code",
   "execution_count": null,
   "metadata": {},
   "outputs": [],
   "source": []
  }
 ],
 "metadata": {
  "kernelspec": {
   "display_name": "Python 3",
   "language": "python",
   "name": "python3"
  },
  "language_info": {
   "codemirror_mode": {
    "name": "ipython",
    "version": 3
   },
   "file_extension": ".py",
   "mimetype": "text/x-python",
   "name": "python",
   "nbconvert_exporter": "python",
   "pygments_lexer": "ipython3",
   "version": "3.7.3"
  }
 },
 "nbformat": 4,
 "nbformat_minor": 2
}
