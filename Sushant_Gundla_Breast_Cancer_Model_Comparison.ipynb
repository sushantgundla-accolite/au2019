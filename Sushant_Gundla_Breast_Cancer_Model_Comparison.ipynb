{
 "cells": [
  {
   "cell_type": "code",
   "execution_count": 32,
   "metadata": {
    "ExecuteTime": {
     "end_time": "2019-08-05T04:56:13.723840Z",
     "start_time": "2019-08-05T04:56:13.718856Z"
    }
   },
   "outputs": [],
   "source": [
    "import numpy as np\n",
    "from sklearn.model_selection import GridSearchCV\n",
    "from sklearn.pipeline import Pipeline\n",
    "from sklearn.datasets import load_breast_cancer\n",
    "\n",
    "import warnings; warnings.simplefilter('ignore')\n",
    "\n",
    "from sklearn.linear_model import LogisticRegression, Lasso\n",
    "from sklearn.ensemble import RandomForestClassifier, AdaBoostClassifier, ExtraTreesClassifier,GradientBoostingClassifier\n",
    "from sklearn.tree import DecisionTreeClassifier\n",
    "from sklearn.svm import SVC\n",
    "\n",
    "from sklearn.preprocessing import StandardScaler"
   ]
  },
  {
   "cell_type": "code",
   "execution_count": 33,
   "metadata": {
    "ExecuteTime": {
     "end_time": "2019-08-05T04:56:14.001763Z",
     "start_time": "2019-08-05T04:56:13.985805Z"
    }
   },
   "outputs": [],
   "source": [
    "data = load_breast_cancer()\n",
    "#display(data.data,data.target)"
   ]
  },
  {
   "cell_type": "code",
   "execution_count": 34,
   "metadata": {
    "ExecuteTime": {
     "end_time": "2019-08-05T04:56:14.213723Z",
     "start_time": "2019-08-05T04:56:14.208705Z"
    }
   },
   "outputs": [],
   "source": [
    "from sklearn.model_selection import train_test_split\n",
    "X_train, X_test, y_train, y_test = train_test_split(data.data, data.target, test_size=0.33, random_state=42)"
   ]
  },
  {
   "cell_type": "markdown",
   "metadata": {},
   "source": [
    "### Model Comparison"
   ]
  },
  {
   "cell_type": "code",
   "execution_count": 35,
   "metadata": {
    "ExecuteTime": {
     "end_time": "2019-08-05T04:56:14.409714Z",
     "start_time": "2019-08-05T04:56:14.404727Z"
    },
    "code_folding": []
   },
   "outputs": [],
   "source": [
    "model_dict ={'LogisticRegression': LogisticRegression(penalty='l2', C = 0.1),\n",
    "             'SVC':SVC(C=0.2),\n",
    "             'DecisionTreeClassifier': DecisionTreeClassifier(),\n",
    "             'RandomForestClassifier':RandomForestClassifier(n_estimators=100,n_jobs=-1),\n",
    "             'AdaBoostClassifier': AdaBoostClassifier(n_estimators=100,learning_rate=0.1),\n",
    "             'GradientBoostingClassifier':GradientBoostingClassifier(learning_rate=0.1,n_estimators=100),\n",
    "             'ExtraTreesClassifier':ExtraTreesClassifier(n_estimators=100,n_jobs=-1),\n",
    "             'Lasso':Lasso(alpha=0.1)\n",
    "            }"
   ]
  },
  {
   "cell_type": "code",
   "execution_count": 36,
   "metadata": {
    "ExecuteTime": {
     "end_time": "2019-08-05T04:56:17.009848Z",
     "start_time": "2019-08-05T04:56:14.640326Z"
    }
   },
   "outputs": [
    {
     "name": "stdout",
     "output_type": "stream",
     "text": [
      "LogisticRegression : 0.9625336021505376\n",
      "SVC : 0.941364247311828\n",
      "DecisionTreeClassifier : 0.9361559139784946\n",
      "RandomForestClassifier : 0.9411962365591399\n",
      "AdaBoostClassifier : 0.9411962365591399\n",
      "GradientBoostingClassifier : 0.9411962365591399\n",
      "ExtraTreesClassifier : 0.9519489247311829\n",
      "Lasso : 0.6435556214583623\n"
     ]
    }
   ],
   "source": [
    "for clf_name, clf in model_dict.items():\n",
    "    pipeline = Pipeline([('scaler', StandardScaler()), (clf_name, clf)])\n",
    "    pipeline.fit(X_train,y_train)\n",
    "    print(clf_name,':',np.array(cross_val_score(pipeline, X_test, y_test, cv=3)).mean())"
   ]
  },
  {
   "cell_type": "markdown",
   "metadata": {},
   "source": [
    "### LogisticRegression fine tuning"
   ]
  },
  {
   "cell_type": "code",
   "execution_count": 57,
   "metadata": {
    "ExecuteTime": {
     "end_time": "2019-08-05T05:12:52.195380Z",
     "start_time": "2019-08-05T05:12:51.993922Z"
    }
   },
   "outputs": [
    {
     "data": {
      "text/plain": [
       "{'LR__C': 1, 'LR__penalty': 'l2'}"
      ]
     },
     "metadata": {},
     "output_type": "display_data"
    },
    {
     "data": {
      "text/plain": [
       "'Best Parameters gives accuracy of '"
      ]
     },
     "metadata": {},
     "output_type": "display_data"
    },
    {
     "data": {
      "text/plain": [
       "0.9679099462365591"
      ]
     },
     "metadata": {},
     "output_type": "display_data"
    }
   ],
   "source": [
    "clf_name, clf = 'LogisticRegression', LogisticRegression()\n",
    "pipeline = Pipeline([('scaler', StandardScaler()), ('LR', clf)])\n",
    "parameters = {'LR__penalty':('l1','l2'), 'LR__C':np.arange(1,10)}\n",
    "gridsearch = GridSearchCV(pipeline,parameters,cv=3)\n",
    "gridsearch.fit(X_train, y_train)\n",
    "display(gridsearch.best_params_)\n",
    "display('Best Parameters gives accuracy of ',np.array(cross_val_score(gridsearch.best_estimator_, X_test, y_test, cv=3)).mean())"
   ]
  },
  {
   "cell_type": "markdown",
   "metadata": {},
   "source": [
    "### ExtraTreesClassifier fine tuning"
   ]
  },
  {
   "cell_type": "code",
   "execution_count": 64,
   "metadata": {
    "ExecuteTime": {
     "end_time": "2019-08-05T05:26:36.294013Z",
     "start_time": "2019-08-05T05:20:46.567993Z"
    }
   },
   "outputs": [
    {
     "data": {
      "text/plain": [
       "{'ETR__min_samples_split': 0.1, 'ETR__n_estimators': 100}"
      ]
     },
     "metadata": {},
     "output_type": "display_data"
    },
    {
     "data": {
      "text/plain": [
       "'Best Parameters gives accuracy of '"
      ]
     },
     "metadata": {},
     "output_type": "display_data"
    },
    {
     "data": {
      "text/plain": [
       "0.9627016129032259"
      ]
     },
     "metadata": {},
     "output_type": "display_data"
    }
   ],
   "source": [
    "clf = ExtraTreesClassifier(n_jobs=-1)\n",
    "pipeline = Pipeline([('scaler', StandardScaler()), ('ETR', clf)])\n",
    "parameters = {'ETR__n_estimators':range(20,401,20), 'ETR__min_samples_split':np.arange(0.1,1.1,0.1)}\n",
    "gridsearch = GridSearchCV(pipeline,parameters,cv=3)\n",
    "gridsearch.fit(X_train, y_train)\n",
    "display(gridsearch.best_params_)\n",
    "display('Best Parameters gives accuracy of ',np.array(cross_val_score(gridsearch.best_estimator_, X_test, y_test, cv=3)).mean())"
   ]
  },
  {
   "cell_type": "markdown",
   "metadata": {},
   "source": [
    "***Logistic Regression outperforms every other model for breast cancer prediction***"
   ]
  },
  {
   "cell_type": "code",
   "execution_count": null,
   "metadata": {},
   "outputs": [],
   "source": []
  },
  {
   "cell_type": "code",
   "execution_count": null,
   "metadata": {},
   "outputs": [],
   "source": []
  }
 ],
 "metadata": {
  "kernelspec": {
   "display_name": "Python 3",
   "language": "python",
   "name": "python3"
  },
  "language_info": {
   "codemirror_mode": {
    "name": "ipython",
    "version": 3
   },
   "file_extension": ".py",
   "mimetype": "text/x-python",
   "name": "python",
   "nbconvert_exporter": "python",
   "pygments_lexer": "ipython3",
   "version": "3.7.3"
  },
  "toc": {
   "base_numbering": 1,
   "nav_menu": {},
   "number_sections": true,
   "sideBar": true,
   "skip_h1_title": false,
   "title_cell": "Table of Contents",
   "title_sidebar": "Contents",
   "toc_cell": false,
   "toc_position": {},
   "toc_section_display": true,
   "toc_window_display": false
  },
  "varInspector": {
   "cols": {
    "lenName": 16,
    "lenType": 16,
    "lenVar": 40
   },
   "kernels_config": {
    "python": {
     "delete_cmd_postfix": "",
     "delete_cmd_prefix": "del ",
     "library": "var_list.py",
     "varRefreshCmd": "print(var_dic_list())"
    },
    "r": {
     "delete_cmd_postfix": ") ",
     "delete_cmd_prefix": "rm(",
     "library": "var_list.r",
     "varRefreshCmd": "cat(var_dic_list()) "
    }
   },
   "types_to_exclude": [
    "module",
    "function",
    "builtin_function_or_method",
    "instance",
    "_Feature"
   ],
   "window_display": false
  }
 },
 "nbformat": 4,
 "nbformat_minor": 2
}
