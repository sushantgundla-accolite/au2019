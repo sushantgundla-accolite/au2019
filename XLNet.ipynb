{
  "nbformat": 4,
  "nbformat_minor": 0,
  "metadata": {
    "colab": {
      "name": "XLNet.ipynb",
      "version": "0.3.2",
      "provenance": [],
      "collapsed_sections": []
    },
    "kernelspec": {
      "name": "python3",
      "display_name": "Python 3"
    },
    "accelerator": "GPU"
  },
  "cells": [
    {
      "cell_type": "code",
      "metadata": {
        "id": "EpVUQ5uKZXSc",
        "colab_type": "code",
        "outputId": "21ee9b6e-94ed-4285-fcb8-4db4976a04c9",
        "colab": {
          "base_uri": "https://localhost:8080/",
          "height": 122
        }
      },
      "source": [
        "# mount google drive\n",
        "from google.colab import drive\n",
        "drive.mount('/content/drive', force_remount=True)"
      ],
      "execution_count": 0,
      "outputs": [
        {
          "output_type": "stream",
          "text": [
            "Go to this URL in a browser: https://accounts.google.com/o/oauth2/auth?client_id=947318989803-6bn6qk8qdgf4n4g3pfee6491hc0brc4i.apps.googleusercontent.com&redirect_uri=urn%3Aietf%3Awg%3Aoauth%3A2.0%3Aoob&scope=email%20https%3A%2F%2Fwww.googleapis.com%2Fauth%2Fdocs.test%20https%3A%2F%2Fwww.googleapis.com%2Fauth%2Fdrive%20https%3A%2F%2Fwww.googleapis.com%2Fauth%2Fdrive.photos.readonly%20https%3A%2F%2Fwww.googleapis.com%2Fauth%2Fpeopleapi.readonly&response_type=code\n",
            "\n",
            "Enter your authorization code:\n",
            "··········\n",
            "Mounted at /content/drive\n"
          ],
          "name": "stdout"
        }
      ]
    },
    {
      "cell_type": "code",
      "metadata": {
        "id": "UGQTsd2uvuYy",
        "colab_type": "code",
        "outputId": "ed3a7511-47c1-48df-a55c-a44ed598da5f",
        "colab": {
          "base_uri": "https://localhost:8080/",
          "height": 34
        }
      },
      "source": [
        "# check the availability of the GPU\n",
        "import tensorflow as tf\n",
        "tf.test.gpu_device_name()"
      ],
      "execution_count": 0,
      "outputs": [
        {
          "output_type": "execute_result",
          "data": {
            "text/plain": [
              "'/device:GPU:0'"
            ]
          },
          "metadata": {
            "tags": []
          },
          "execution_count": 2
        }
      ]
    },
    {
      "cell_type": "markdown",
      "metadata": {
        "id": "QZoF8DNAvSvY",
        "colab_type": "text"
      },
      "source": [
        "## Imports"
      ]
    },
    {
      "cell_type": "code",
      "metadata": {
        "ExecuteTime": {
          "end_time": "2019-07-28T10:55:04.279449Z",
          "start_time": "2019-07-28T10:54:47.908393Z"
        },
        "id": "HlbxvP6kuvsV",
        "colab_type": "code",
        "outputId": "8537e1ca-fcf8-4faa-cc5c-39fbc26d5ad7",
        "colab": {
          "base_uri": "https://localhost:8080/",
          "height": 85
        }
      },
      "source": [
        "import pandas as pd\n",
        "import numpy as np\n",
        "import matplotlib.pyplot as plt\n",
        "import string\n",
        "import csv\n",
        "\n",
        "import warnings\n",
        "warnings.filterwarnings('ignore')\n",
        "\n",
        "import gensim\n",
        "import re\n",
        "import seaborn as sns\n",
        "from collections import Counter\n",
        "\n",
        "import nltk\n",
        "nltk.download('wordnet')\n",
        "nltk.download('stopwords')\n",
        "\n",
        "from nltk.corpus import stopwords\n",
        "from nltk.tokenize import TweetTokenizer, WordPunctTokenizer\n",
        "from nltk.stem.wordnet import WordNetLemmatizer\n",
        "\n",
        "from sklearn.model_selection import train_test_split\n",
        "from sklearn.feature_extraction.text import CountVectorizer\n",
        "from sklearn.feature_extraction.text import TfidfVectorizer, TfidfTransformer\n",
        "\n",
        "from sklearn.decomposition import PCA\n",
        "import pickle"
      ],
      "execution_count": 0,
      "outputs": [
        {
          "output_type": "stream",
          "text": [
            "[nltk_data] Downloading package wordnet to /root/nltk_data...\n",
            "[nltk_data]   Package wordnet is already up-to-date!\n",
            "[nltk_data] Downloading package stopwords to /root/nltk_data...\n",
            "[nltk_data]   Package stopwords is already up-to-date!\n"
          ],
          "name": "stdout"
        }
      ]
    },
    {
      "cell_type": "markdown",
      "metadata": {
        "id": "WhZH1cl1uvsY",
        "colab_type": "text"
      },
      "source": [
        "## Data Wrangling"
      ]
    },
    {
      "cell_type": "code",
      "metadata": {
        "ExecuteTime": {
          "end_time": "2019-07-28T10:55:09.703971Z",
          "start_time": "2019-07-28T10:55:09.368542Z"
        },
        "scrolled": false,
        "id": "3PhXYejXuvsY",
        "colab_type": "code",
        "outputId": "dc734ee6-9c01-4841-9257-a67bad9ae407",
        "colab": {
          "base_uri": "https://localhost:8080/",
          "height": 374
        }
      },
      "source": [
        "# import the critical findings dataset which is in csv format\n",
        "df_critical = pd.read_csv('/content/drive/My Drive/Critical_Findings/critical-findings-sample-data-20180601-20180901.csv')\n",
        "df_critical.replace(['Complete Critical Finding', 'Complete Physician Decline'],['complete_critical_findings','complete_physician_decline'],inplace=True)\n",
        "df_critical.head()"
      ],
      "execution_count": 0,
      "outputs": [
        {
          "output_type": "execute_result",
          "data": {
            "text/html": [
              "<div>\n",
              "<style scoped>\n",
              "    .dataframe tbody tr th:only-of-type {\n",
              "        vertical-align: middle;\n",
              "    }\n",
              "\n",
              "    .dataframe tbody tr th {\n",
              "        vertical-align: top;\n",
              "    }\n",
              "\n",
              "    .dataframe thead th {\n",
              "        text-align: right;\n",
              "    }\n",
              "</style>\n",
              "<table border=\"1\" class=\"dataframe\">\n",
              "  <thead>\n",
              "    <tr style=\"text-align: right;\">\n",
              "      <th></th>\n",
              "      <th>Modality</th>\n",
              "      <th>Critical_Finding</th>\n",
              "      <th>Category</th>\n",
              "      <th>Data</th>\n",
              "    </tr>\n",
              "  </thead>\n",
              "  <tbody>\n",
              "    <tr>\n",
              "      <th>0</th>\n",
              "      <td>CT</td>\n",
              "      <td>complete_critical_findings</td>\n",
              "      <td>Significant Vascular Pathology</td>\n",
              "      <td>STUDY:   CT CHEST WITH CONTRAST&lt;br /&gt;&lt;br /&gt;REA...</td>\n",
              "    </tr>\n",
              "    <tr>\n",
              "      <th>1</th>\n",
              "      <td>CT</td>\n",
              "      <td>complete_critical_findings</td>\n",
              "      <td>Significant Vascular Pathology</td>\n",
              "      <td>STUDY:   CT CHEST WITH CONTRAST&lt;br /&gt;&lt;br /&gt;REA...</td>\n",
              "    </tr>\n",
              "    <tr>\n",
              "      <th>2</th>\n",
              "      <td>CT</td>\n",
              "      <td>complete_critical_findings</td>\n",
              "      <td>Significant Vascular Pathology</td>\n",
              "      <td>STUDY:   CT CHEST WITH CONTRAST&lt;br /&gt;&lt;br /&gt;REA...</td>\n",
              "    </tr>\n",
              "    <tr>\n",
              "      <th>3</th>\n",
              "      <td>CT</td>\n",
              "      <td>complete_critical_findings</td>\n",
              "      <td>Acute Vascular Event</td>\n",
              "      <td>HISTORY: left sided weakness&lt;br /&gt;&lt;br /&gt;TECHNI...</td>\n",
              "    </tr>\n",
              "    <tr>\n",
              "      <th>4</th>\n",
              "      <td>CT</td>\n",
              "      <td>complete_critical_findings</td>\n",
              "      <td>Acute Vascular Event</td>\n",
              "      <td>HISTORY: left sided weakness&lt;br /&gt;&lt;br /&gt;TECHNI...</td>\n",
              "    </tr>\n",
              "  </tbody>\n",
              "</table>\n",
              "</div>"
            ],
            "text/plain": [
              "  Modality  ...                                               Data\n",
              "0       CT  ...  STUDY:   CT CHEST WITH CONTRAST<br /><br />REA...\n",
              "1       CT  ...  STUDY:   CT CHEST WITH CONTRAST<br /><br />REA...\n",
              "2       CT  ...  STUDY:   CT CHEST WITH CONTRAST<br /><br />REA...\n",
              "3       CT  ...  HISTORY: left sided weakness<br /><br />TECHNI...\n",
              "4       CT  ...  HISTORY: left sided weakness<br /><br />TECHNI...\n",
              "\n",
              "[5 rows x 4 columns]"
            ]
          },
          "metadata": {
            "tags": []
          },
          "execution_count": 61
        }
      ]
    },
    {
      "cell_type": "code",
      "metadata": {
        "ExecuteTime": {
          "end_time": "2019-07-28T10:55:11.025546Z",
          "start_time": "2019-07-28T10:55:10.976958Z"
        },
        "scrolled": true,
        "id": "81VUZA7Huvsh",
        "colab_type": "code",
        "outputId": "28744f2a-b253-460a-aceb-df87355fe09a",
        "colab": {
          "base_uri": "https://localhost:8080/",
          "height": 289
        }
      },
      "source": [
        "# import the non-critical dataset which is in csv format\n",
        "df_noncritical = pd.read_csv('/content/drive/My Drive/Critical_Findings/non-critical-findings-sample-data-20180601-20180901.csv')\n",
        "df_noncritical.Critical_Finding.replace('None','no_critical_finding',inplace=True)\n",
        "df_noncritical.Category.replace(np.nan,'no_category',inplace=True)\n",
        "df_noncritical.head()"
      ],
      "execution_count": 0,
      "outputs": [
        {
          "output_type": "execute_result",
          "data": {
            "text/html": [
              "<div>\n",
              "<style scoped>\n",
              "    .dataframe tbody tr th:only-of-type {\n",
              "        vertical-align: middle;\n",
              "    }\n",
              "\n",
              "    .dataframe tbody tr th {\n",
              "        vertical-align: top;\n",
              "    }\n",
              "\n",
              "    .dataframe thead th {\n",
              "        text-align: right;\n",
              "    }\n",
              "</style>\n",
              "<table border=\"1\" class=\"dataframe\">\n",
              "  <thead>\n",
              "    <tr style=\"text-align: right;\">\n",
              "      <th></th>\n",
              "      <th>Modality</th>\n",
              "      <th>Critical_Finding</th>\n",
              "      <th>Category</th>\n",
              "      <th>Data</th>\n",
              "    </tr>\n",
              "  </thead>\n",
              "  <tbody>\n",
              "    <tr>\n",
              "      <th>0</th>\n",
              "      <td>CR</td>\n",
              "      <td>no_critical_finding</td>\n",
              "      <td>no_category</td>\n",
              "      <td>STUDY:   X-RAY - LEFT HAND&lt;br /&gt;&lt;br /&gt;REASON F...</td>\n",
              "    </tr>\n",
              "    <tr>\n",
              "      <th>1</th>\n",
              "      <td>US</td>\n",
              "      <td>no_critical_finding</td>\n",
              "      <td>no_category</td>\n",
              "      <td>STUDY:   VENOUS DOPPLER ULTRASOUND -LEFT UPPER...</td>\n",
              "    </tr>\n",
              "    <tr>\n",
              "      <th>2</th>\n",
              "      <td>CR</td>\n",
              "      <td>no_critical_finding</td>\n",
              "      <td>no_category</td>\n",
              "      <td>XR Chest 1 View&lt;br /&gt;&lt;br /&gt;INDICATION: for com...</td>\n",
              "    </tr>\n",
              "    <tr>\n",
              "      <th>3</th>\n",
              "      <td>CR</td>\n",
              "      <td>no_critical_finding</td>\n",
              "      <td>no_category</td>\n",
              "      <td>STUDY:   X-RAY CHEST&lt;br /&gt;&lt;br /&gt;REASON FOR EXA...</td>\n",
              "    </tr>\n",
              "    <tr>\n",
              "      <th>4</th>\n",
              "      <td>US</td>\n",
              "      <td>no_critical_finding</td>\n",
              "      <td>no_category</td>\n",
              "      <td>STUDY:   VENOUS DOPPLER ULTRASOUND - LEFT LOWE...</td>\n",
              "    </tr>\n",
              "  </tbody>\n",
              "</table>\n",
              "</div>"
            ],
            "text/plain": [
              "  Modality  ...                                               Data\n",
              "0       CR  ...  STUDY:   X-RAY - LEFT HAND<br /><br />REASON F...\n",
              "1       US  ...  STUDY:   VENOUS DOPPLER ULTRASOUND -LEFT UPPER...\n",
              "2       CR  ...  XR Chest 1 View<br /><br />INDICATION: for com...\n",
              "3       CR  ...  STUDY:   X-RAY CHEST<br /><br />REASON FOR EXA...\n",
              "4       US  ...  STUDY:   VENOUS DOPPLER ULTRASOUND - LEFT LOWE...\n",
              "\n",
              "[5 rows x 4 columns]"
            ]
          },
          "metadata": {
            "tags": []
          },
          "execution_count": 62
        }
      ]
    },
    {
      "cell_type": "markdown",
      "metadata": {
        "id": "vda53JRWuvso",
        "colab_type": "text"
      },
      "source": [
        "### Merge both datasets"
      ]
    },
    {
      "cell_type": "code",
      "metadata": {
        "ExecuteTime": {
          "end_time": "2019-07-28T10:55:13.201204Z",
          "start_time": "2019-07-28T10:55:13.187900Z"
        },
        "id": "OmHF0cf5uvsp",
        "colab_type": "code",
        "outputId": "e4cc7ec4-6468-4eed-e63c-7f77985c3b5e",
        "colab": {
          "base_uri": "https://localhost:8080/",
          "height": 374
        }
      },
      "source": [
        "# append both datasets into one dataframe \n",
        "df = df_critical.append(df_noncritical)\n",
        "\n",
        "# free memory by deleting partial datasets\n",
        "del df_noncritical\n",
        "del df_critical\n",
        "df.head()"
      ],
      "execution_count": 0,
      "outputs": [
        {
          "output_type": "execute_result",
          "data": {
            "text/html": [
              "<div>\n",
              "<style scoped>\n",
              "    .dataframe tbody tr th:only-of-type {\n",
              "        vertical-align: middle;\n",
              "    }\n",
              "\n",
              "    .dataframe tbody tr th {\n",
              "        vertical-align: top;\n",
              "    }\n",
              "\n",
              "    .dataframe thead th {\n",
              "        text-align: right;\n",
              "    }\n",
              "</style>\n",
              "<table border=\"1\" class=\"dataframe\">\n",
              "  <thead>\n",
              "    <tr style=\"text-align: right;\">\n",
              "      <th></th>\n",
              "      <th>Modality</th>\n",
              "      <th>Critical_Finding</th>\n",
              "      <th>Category</th>\n",
              "      <th>Data</th>\n",
              "    </tr>\n",
              "  </thead>\n",
              "  <tbody>\n",
              "    <tr>\n",
              "      <th>0</th>\n",
              "      <td>CT</td>\n",
              "      <td>complete_critical_findings</td>\n",
              "      <td>Significant Vascular Pathology</td>\n",
              "      <td>STUDY:   CT CHEST WITH CONTRAST&lt;br /&gt;&lt;br /&gt;REA...</td>\n",
              "    </tr>\n",
              "    <tr>\n",
              "      <th>1</th>\n",
              "      <td>CT</td>\n",
              "      <td>complete_critical_findings</td>\n",
              "      <td>Significant Vascular Pathology</td>\n",
              "      <td>STUDY:   CT CHEST WITH CONTRAST&lt;br /&gt;&lt;br /&gt;REA...</td>\n",
              "    </tr>\n",
              "    <tr>\n",
              "      <th>2</th>\n",
              "      <td>CT</td>\n",
              "      <td>complete_critical_findings</td>\n",
              "      <td>Significant Vascular Pathology</td>\n",
              "      <td>STUDY:   CT CHEST WITH CONTRAST&lt;br /&gt;&lt;br /&gt;REA...</td>\n",
              "    </tr>\n",
              "    <tr>\n",
              "      <th>3</th>\n",
              "      <td>CT</td>\n",
              "      <td>complete_critical_findings</td>\n",
              "      <td>Acute Vascular Event</td>\n",
              "      <td>HISTORY: left sided weakness&lt;br /&gt;&lt;br /&gt;TECHNI...</td>\n",
              "    </tr>\n",
              "    <tr>\n",
              "      <th>4</th>\n",
              "      <td>CT</td>\n",
              "      <td>complete_critical_findings</td>\n",
              "      <td>Acute Vascular Event</td>\n",
              "      <td>HISTORY: left sided weakness&lt;br /&gt;&lt;br /&gt;TECHNI...</td>\n",
              "    </tr>\n",
              "  </tbody>\n",
              "</table>\n",
              "</div>"
            ],
            "text/plain": [
              "  Modality  ...                                               Data\n",
              "0       CT  ...  STUDY:   CT CHEST WITH CONTRAST<br /><br />REA...\n",
              "1       CT  ...  STUDY:   CT CHEST WITH CONTRAST<br /><br />REA...\n",
              "2       CT  ...  STUDY:   CT CHEST WITH CONTRAST<br /><br />REA...\n",
              "3       CT  ...  HISTORY: left sided weakness<br /><br />TECHNI...\n",
              "4       CT  ...  HISTORY: left sided weakness<br /><br />TECHNI...\n",
              "\n",
              "[5 rows x 4 columns]"
            ]
          },
          "metadata": {
            "tags": []
          },
          "execution_count": 63
        }
      ]
    },
    {
      "cell_type": "markdown",
      "metadata": {
        "id": "GAgEtHI1uvst",
        "colab_type": "text"
      },
      "source": [
        "### Data Cleaning"
      ]
    },
    {
      "cell_type": "markdown",
      "metadata": {
        "id": "zmJV4j69oyDz",
        "colab_type": "text"
      },
      "source": [
        "**Steps in Text Preprocessing**\n",
        "1. **tags removal** : \\&gt;   \\&lt;    \\&quot;   \\<br />\n",
        "2. **Lower Case** \n",
        "3. **Deontraction**\n",
        "4. **Replacing words not in Word Embeddings**\n",
        "5. **Punctuations and Numbers Removal**:\n",
        "6. **Stopwords Removal**\n",
        "7. **Removal of Smaller length words (len <= 2)**\n",
        "8. **Tokenization**\n",
        "9. **Lematization**\n"
      ]
    },
    {
      "cell_type": "code",
      "metadata": {
        "id": "Pa7G3GtSA6FT",
        "colab_type": "code",
        "colab": {}
      },
      "source": [
        "# import stop words for english\n",
        "stopword_list = nltk.corpus.stopwords.words('english')\n",
        "stopword_list.remove('no')\n",
        "stopword_list.remove('not')"
      ],
      "execution_count": 0,
      "outputs": []
    },
    {
      "cell_type": "code",
      "metadata": {
        "id": "kTViJrRbrbP0",
        "colab_type": "code",
        "colab": {}
      },
      "source": [
        "# tokenizer\n",
        "tok = WordPunctTokenizer()\n",
        "\n",
        "# replacement dictionary\n",
        "replace_dict ={'c-collar':'cervical collar',\n",
        "               'c-section':'caesarean section',\n",
        "               'c-spine':'cervical spine',\n",
        "               'chest-shortness':'chest pain and shortness of breath',\n",
        "               'cul-de-sac':'dead end',\n",
        "               'csf':'cerebrospinal fluid',\n",
        "               'd-dimer':'ddimer',\n",
        "               'x-ray':'xray',\n",
        "               'x-rays':'xray',\n",
        "               'ct':'computed tomography',               \n",
        "               'barchie':'',\n",
        "               'kamholtz':'',\n",
        "               'neuroforamina':'',\n",
        "               'bibasilar':'',\n",
        "               'breckwoldt': '',\n",
        "               'costophrenic': 'places where the diaphragm meets the ribs',\n",
        "               'ctdivol': 'volume computed tomography dose index',\n",
        "               'hyperdensity': 'high hemoglobin content of retracted clot or blood',\n",
        "               'mgycm': 'absorbed radiation per kilogram per centimeter',\n",
        "               'neuroforamina': 'compression of a spinal nerve',\n",
        "               'nonobstructing': 'non obstructing',\n",
        "               'periappendiceal': 'near the appendix'\n",
        "              }\n",
        "\n",
        "# tags found in data\n",
        "tags = ['&gt;','&lt;','&quot;','<br />']"
      ],
      "execution_count": 0,
      "outputs": []
    },
    {
      "cell_type": "code",
      "metadata": {
        "id": "p5nvtRhMwnL5",
        "colab_type": "code",
        "colab": {}
      },
      "source": [
        "# function for text-preprocessing \n",
        "def text_preprocessor(text):\n",
        "  \n",
        "  #tag removal\n",
        "  for tag in tags:\n",
        "    text = text.replace(tag, ' ')\n",
        "  \n",
        "  # decontract the contractions\n",
        "  def decontract(phrase):\n",
        "    #phrase = re.sub(r\"n\\'t\", \" not\", phrase)\n",
        "    #phrase = re.sub(r\"\\'re\", \" are\", phrase)\n",
        "    #phrase = re.sub(r\"\\'s\", \" is\", phrase)\n",
        "    #phrase = re.sub(r\"\\'d\", \" would\", phrase)\n",
        "    #phrase = re.sub(r\"\\'ll\", \" will\", phrase)\n",
        "    #phrase = re.sub(r\"\\'t\", \" not\", phrase)\n",
        "    #phrase = re.sub(r\"\\'ve\", \" have\", phrase)\n",
        "    phrase = re.sub(r\"\\'m\", \" am\", phrase)\n",
        "    return phrase\n",
        "  decontracted = decontract(text)\n",
        "\n",
        "  # lower case\n",
        "  lower_case = decontracted.lower()\n",
        "\n",
        "  # replacements\n",
        "  for before, after in replace_dict.items():\n",
        "    lower_case = ' '.join([after if before==word else word for word in lower_case.split() ])\n",
        "  \n",
        "  # punctuations and numeric removal\n",
        "  letters_only = re.sub(\"[^a-zA-Z]\", \" \", lower_case)\n",
        "  \n",
        "  # remove words with 2 or fewer characters\n",
        "  removed = re.sub(r'\\b\\w{1,2}\\b', '', letters_only)\n",
        "  \n",
        "  # tokenize\n",
        "  words = tok.tokenize(removed)\n",
        "\n",
        "  # stop words removal\n",
        "  #stop_word_removed = [word for word in words if word not in stopword_list]\n",
        "  \n",
        "  # lemmatize words using WordNet\n",
        "  lmtzr = WordNetLemmatizer()\n",
        "  lemmatized_list = [lmtzr.lemmatize(word) for word in words]\n",
        "  lemmatized_sentence = ' '.join(lemmatized_list)\n",
        "  \n",
        "  return lemmatized_sentence"
      ],
      "execution_count": 0,
      "outputs": []
    },
    {
      "cell_type": "code",
      "metadata": {
        "id": "WyKZPmiErbu-",
        "colab_type": "code",
        "colab": {}
      },
      "source": [
        "# Cleaning the text on entire df\n",
        "df.Data = df.Data.apply(text_preprocessor)"
      ],
      "execution_count": 0,
      "outputs": []
    },
    {
      "cell_type": "markdown",
      "metadata": {
        "id": "exWjEYdMb4m7",
        "colab_type": "text"
      },
      "source": [
        "# XL Net\n",
        "- XLNet makes use of a permutation operation during training time that allows context to consists of tokens from both left and right, capturing the bidirectional context, making it a generalized order-aware AR language model.\n",
        "- During pretraining, XLNet adopts the segment recurrent mechanism and relative encoding scheme proposed in Transformer-XL."
      ]
    },
    {
      "cell_type": "code",
      "metadata": {
        "id": "KJUg2uiqb41F",
        "colab_type": "code",
        "colab": {}
      },
      "source": [
        "# configurations\n",
        "%reload_ext autoreload\n",
        "%autoreload 2\n",
        "%matplotlib inline"
      ],
      "execution_count": 0,
      "outputs": []
    },
    {
      "cell_type": "code",
      "metadata": {
        "id": "zYqDY7TYcfid",
        "colab_type": "code",
        "outputId": "e44c8b71-7776-492e-eda6-d0cdb9fca706",
        "colab": {
          "base_uri": "https://localhost:8080/",
          "height": 632
        }
      },
      "source": [
        "# installing bert and transformers\n",
        "!pip install pytorch-pretrained-bert\n",
        "!pip install pytorch_transformers"
      ],
      "execution_count": 0,
      "outputs": [
        {
          "output_type": "stream",
          "text": [
            "Requirement already satisfied: pytorch-pretrained-bert in /usr/local/lib/python3.6/dist-packages (0.6.2)\n",
            "Requirement already satisfied: boto3 in /usr/local/lib/python3.6/dist-packages (from pytorch-pretrained-bert) (1.9.205)\n",
            "Requirement already satisfied: regex in /usr/local/lib/python3.6/dist-packages (from pytorch-pretrained-bert) (2019.8.19)\n",
            "Requirement already satisfied: tqdm in /usr/local/lib/python3.6/dist-packages (from pytorch-pretrained-bert) (4.28.1)\n",
            "Requirement already satisfied: numpy in /usr/local/lib/python3.6/dist-packages (from pytorch-pretrained-bert) (1.16.4)\n",
            "Requirement already satisfied: torch>=0.4.1 in /usr/local/lib/python3.6/dist-packages (from pytorch-pretrained-bert) (1.1.0)\n",
            "Requirement already satisfied: requests in /usr/local/lib/python3.6/dist-packages (from pytorch-pretrained-bert) (2.21.0)\n",
            "Requirement already satisfied: botocore<1.13.0,>=1.12.205 in /usr/local/lib/python3.6/dist-packages (from boto3->pytorch-pretrained-bert) (1.12.205)\n",
            "Requirement already satisfied: jmespath<1.0.0,>=0.7.1 in /usr/local/lib/python3.6/dist-packages (from boto3->pytorch-pretrained-bert) (0.9.4)\n",
            "Requirement already satisfied: s3transfer<0.3.0,>=0.2.0 in /usr/local/lib/python3.6/dist-packages (from boto3->pytorch-pretrained-bert) (0.2.1)\n",
            "Requirement already satisfied: chardet<3.1.0,>=3.0.2 in /usr/local/lib/python3.6/dist-packages (from requests->pytorch-pretrained-bert) (3.0.4)\n",
            "Requirement already satisfied: certifi>=2017.4.17 in /usr/local/lib/python3.6/dist-packages (from requests->pytorch-pretrained-bert) (2019.6.16)\n",
            "Requirement already satisfied: idna<2.9,>=2.5 in /usr/local/lib/python3.6/dist-packages (from requests->pytorch-pretrained-bert) (2.8)\n",
            "Requirement already satisfied: urllib3<1.25,>=1.21.1 in /usr/local/lib/python3.6/dist-packages (from requests->pytorch-pretrained-bert) (1.24.3)\n",
            "Requirement already satisfied: python-dateutil<3.0.0,>=2.1; python_version >= \"2.7\" in /usr/local/lib/python3.6/dist-packages (from botocore<1.13.0,>=1.12.205->boto3->pytorch-pretrained-bert) (2.5.3)\n",
            "Requirement already satisfied: docutils<0.15,>=0.10 in /usr/local/lib/python3.6/dist-packages (from botocore<1.13.0,>=1.12.205->boto3->pytorch-pretrained-bert) (0.14)\n",
            "Requirement already satisfied: six>=1.5 in /usr/local/lib/python3.6/dist-packages (from python-dateutil<3.0.0,>=2.1; python_version >= \"2.7\"->botocore<1.13.0,>=1.12.205->boto3->pytorch-pretrained-bert) (1.12.0)\n",
            "Requirement already satisfied: pytorch_transformers in /usr/local/lib/python3.6/dist-packages (1.1.0)\n",
            "Requirement already satisfied: regex in /usr/local/lib/python3.6/dist-packages (from pytorch_transformers) (2019.8.19)\n",
            "Requirement already satisfied: boto3 in /usr/local/lib/python3.6/dist-packages (from pytorch_transformers) (1.9.205)\n",
            "Requirement already satisfied: sentencepiece in /usr/local/lib/python3.6/dist-packages (from pytorch_transformers) (0.1.83)\n",
            "Requirement already satisfied: requests in /usr/local/lib/python3.6/dist-packages (from pytorch_transformers) (2.21.0)\n",
            "Requirement already satisfied: torch>=1.0.0 in /usr/local/lib/python3.6/dist-packages (from pytorch_transformers) (1.1.0)\n",
            "Requirement already satisfied: tqdm in /usr/local/lib/python3.6/dist-packages (from pytorch_transformers) (4.28.1)\n",
            "Requirement already satisfied: numpy in /usr/local/lib/python3.6/dist-packages (from pytorch_transformers) (1.16.4)\n",
            "Requirement already satisfied: jmespath<1.0.0,>=0.7.1 in /usr/local/lib/python3.6/dist-packages (from boto3->pytorch_transformers) (0.9.4)\n",
            "Requirement already satisfied: s3transfer<0.3.0,>=0.2.0 in /usr/local/lib/python3.6/dist-packages (from boto3->pytorch_transformers) (0.2.1)\n",
            "Requirement already satisfied: botocore<1.13.0,>=1.12.205 in /usr/local/lib/python3.6/dist-packages (from boto3->pytorch_transformers) (1.12.205)\n",
            "Requirement already satisfied: certifi>=2017.4.17 in /usr/local/lib/python3.6/dist-packages (from requests->pytorch_transformers) (2019.6.16)\n",
            "Requirement already satisfied: idna<2.9,>=2.5 in /usr/local/lib/python3.6/dist-packages (from requests->pytorch_transformers) (2.8)\n",
            "Requirement already satisfied: chardet<3.1.0,>=3.0.2 in /usr/local/lib/python3.6/dist-packages (from requests->pytorch_transformers) (3.0.4)\n",
            "Requirement already satisfied: urllib3<1.25,>=1.21.1 in /usr/local/lib/python3.6/dist-packages (from requests->pytorch_transformers) (1.24.3)\n",
            "Requirement already satisfied: python-dateutil<3.0.0,>=2.1; python_version >= \"2.7\" in /usr/local/lib/python3.6/dist-packages (from botocore<1.13.0,>=1.12.205->boto3->pytorch_transformers) (2.5.3)\n",
            "Requirement already satisfied: docutils<0.15,>=0.10 in /usr/local/lib/python3.6/dist-packages (from botocore<1.13.0,>=1.12.205->boto3->pytorch_transformers) (0.14)\n",
            "Requirement already satisfied: six>=1.5 in /usr/local/lib/python3.6/dist-packages (from python-dateutil<3.0.0,>=2.1; python_version >= \"2.7\"->botocore<1.13.0,>=1.12.205->boto3->pytorch_transformers) (1.12.0)\n"
          ],
          "name": "stdout"
        }
      ]
    },
    {
      "cell_type": "code",
      "metadata": {
        "id": "V7DIjsCVb469",
        "colab_type": "code",
        "colab": {}
      },
      "source": [
        "# imports for XLNet\n",
        "\n",
        "import torch\n",
        "import os\n",
        "from tqdm import tqdm,trange\n",
        "from torch.optim import Adam\n",
        "from torch.utils.data import TensorDataset, DataLoader, RandomSampler, SequentialSampler\n",
        "from pytorch_pretrained_bert import BertAdam\n",
        "from pytorch_transformers import (XLNetConfig, XLNetForSequenceClassification, XLNetTokenizer)"
      ],
      "execution_count": 0,
      "outputs": []
    },
    {
      "cell_type": "code",
      "metadata": {
        "id": "b3eVNdT8cApt",
        "colab_type": "code",
        "colab": {}
      },
      "source": [
        "# retain only required columns\n",
        "df = df[['Data','Critical_Finding']]\n",
        "\n",
        "# manual label encoding\n",
        "df.Critical_Finding = df.Critical_Finding.replace(['complete_critical_findings', 'complete_physician_decline','no_critical_finding'],[1,0,0])\n",
        "\n",
        "# data preparation\n",
        "df.Critical_Finding = df.Critical_Finding.astype('int32')\n",
        "df.rename(columns={'Data':'texts', 'Critical_Finding':'labels'}, inplace=True)"
      ],
      "execution_count": 0,
      "outputs": []
    },
    {
      "cell_type": "code",
      "metadata": {
        "id": "6Px5xegtd68M",
        "colab_type": "code",
        "outputId": "0ffd500c-99c1-4982-e1ac-ac4093cc6278",
        "colab": {
          "base_uri": "https://localhost:8080/",
          "height": 68
        }
      },
      "source": [
        "df.labels.value_counts()"
      ],
      "execution_count": 0,
      "outputs": [
        {
          "output_type": "execute_result",
          "data": {
            "text/plain": [
              "0    509\n",
              "1    491\n",
              "Name: labels, dtype: int64"
            ]
          },
          "metadata": {
            "tags": []
          },
          "execution_count": 63
        }
      ]
    },
    {
      "cell_type": "code",
      "metadata": {
        "id": "H6Tf7ALbK9B2",
        "colab_type": "code",
        "colab": {}
      },
      "source": [
        ""
      ],
      "execution_count": 0,
      "outputs": []
    },
    {
      "cell_type": "markdown",
      "metadata": {
        "id": "A9He4H2OeS8d",
        "colab_type": "text"
      },
      "source": [
        "## Parser"
      ]
    },
    {
      "cell_type": "code",
      "metadata": {
        "id": "ZMhjRiked7A-",
        "colab_type": "code",
        "outputId": "20345785-82a7-4019-dd73-b1afc86b90d7",
        "colab": {
          "base_uri": "https://localhost:8080/",
          "height": 54
        }
      },
      "source": [
        "# Get sentence data\n",
        "sentences = df.texts.to_list()\n",
        "sentences[0]"
      ],
      "execution_count": 0,
      "outputs": [
        {
          "output_type": "execute_result",
          "data": {
            "text/plain": [
              "'study computed tomography chest with contrast reason for exam male year old chest pain and esophageal dilation radiation dosage supplied facility volume computed tomography dose index mgy dlp absorbed radiation per kilogram per centimeter technique transaxial imaging wa performed following intravenous administration isovue contrast material individualized dose optimization technique were used for this comparison none finding the lung are normal there demonstrated pleural abnormality normal heart and pericardium normal mediastinum normal hilar region pulmonary embolus are present right lower lobe arterial branch normal aorta arch and descending thoracic aorta normal osseous structure there demonstrated abnormality the visualized upper abdomen impression pulmonary embolus are present right lower lobe arterial branch evidence acute pulmonary mediastinal pathology'"
            ]
          },
          "metadata": {
            "tags": []
          },
          "execution_count": 64
        }
      ]
    },
    {
      "cell_type": "code",
      "metadata": {
        "id": "ANYYYRiRd7C-",
        "colab_type": "code",
        "outputId": "46589394-8471-418d-f1a4-275af320a7c2",
        "colab": {
          "base_uri": "https://localhost:8080/",
          "height": 34
        }
      },
      "source": [
        "# Get tag labels data\n",
        "labels = df.labels.to_list()\n",
        "print(labels[:10])"
      ],
      "execution_count": 0,
      "outputs": [
        {
          "output_type": "stream",
          "text": [
            "[1, 1, 1, 1, 1, 1, 1, 1, 1, 1]\n"
          ],
          "name": "stdout"
        }
      ]
    },
    {
      "cell_type": "code",
      "metadata": {
        "id": "dvEIiAssd7FU",
        "colab_type": "code",
        "colab": {}
      },
      "source": [
        "# Set a dict for mapping id to tag name\n",
        "tag2idx={'0': 0,\n",
        " '1': 1}"
      ],
      "execution_count": 0,
      "outputs": []
    },
    {
      "cell_type": "code",
      "metadata": {
        "id": "X9Mircr2d7H1",
        "colab_type": "code",
        "outputId": "916ee116-dc7a-433e-d5e4-855e8ac50ed3",
        "colab": {
          "base_uri": "https://localhost:8080/",
          "height": 34
        }
      },
      "source": [
        "# Mapping index to name\n",
        "tag2name={tag2idx[key] : key for key in tag2idx.keys()}\n",
        "tag2name"
      ],
      "execution_count": 0,
      "outputs": [
        {
          "output_type": "execute_result",
          "data": {
            "text/plain": [
              "{0: '0', 1: '1'}"
            ]
          },
          "metadata": {
            "tags": []
          },
          "execution_count": 67
        }
      ]
    },
    {
      "cell_type": "code",
      "metadata": {
        "id": "3J8GR57ceyGm",
        "colab_type": "code",
        "colab": {}
      },
      "source": [
        ""
      ],
      "execution_count": 0,
      "outputs": []
    },
    {
      "cell_type": "markdown",
      "metadata": {
        "id": "1y6a4yite6U0",
        "colab_type": "text"
      },
      "source": [
        "## Make training data"
      ]
    },
    {
      "cell_type": "code",
      "metadata": {
        "id": "JFBEsrBce-OL",
        "colab_type": "code",
        "outputId": "fc935936-3d12-4000-be05-0deef2abd19f",
        "colab": {
          "base_uri": "https://localhost:8080/",
          "height": 34
        }
      },
      "source": [
        "# check the number of gpus\n",
        "device = torch.device(\"cuda\" if torch.cuda.is_available() else \"cpu\")\n",
        "n_gpu = torch.cuda.device_count()\n",
        "n_gpu"
      ],
      "execution_count": 0,
      "outputs": [
        {
          "output_type": "execute_result",
          "data": {
            "text/plain": [
              "1"
            ]
          },
          "metadata": {
            "tags": []
          },
          "execution_count": 69
        }
      ]
    },
    {
      "cell_type": "code",
      "metadata": {
        "id": "Dx1XJ2rae_jz",
        "colab_type": "code",
        "outputId": "973760bc-4109-4aa5-d6b9-92b551a2446e",
        "colab": {
          "base_uri": "https://localhost:8080/",
          "height": 204
        }
      },
      "source": [
        "# Download the vocab for xlnet\n",
        "!wget https://s3.amazonaws.com/models.huggingface.co/bert/xlnet-base-cased-spiece.model\n",
        "vocabulary = 'xlnet-base-cased-spiece.model'"
      ],
      "execution_count": 0,
      "outputs": [
        {
          "output_type": "stream",
          "text": [
            "--2019-08-20 08:11:41--  https://s3.amazonaws.com/models.huggingface.co/bert/xlnet-base-cased-spiece.model\n",
            "Resolving s3.amazonaws.com (s3.amazonaws.com)... 52.216.81.35\n",
            "Connecting to s3.amazonaws.com (s3.amazonaws.com)|52.216.81.35|:443... connected.\n",
            "HTTP request sent, awaiting response... 200 OK\n",
            "Length: 798011 (779K) [binary/octet-stream]\n",
            "Saving to: ‘xlnet-base-cased-spiece.model.1’\n",
            "\n",
            "\r          xlnet-bas   0%[                    ]       0  --.-KB/s               \r         xlnet-base  38%[======>             ] 296.59K  1.13MB/s               \rxlnet-base-cased-sp 100%[===================>] 779.31K  2.36MB/s    in 0.3s    \n",
            "\n",
            "2019-08-20 08:11:41 (2.36 MB/s) - ‘xlnet-base-cased-spiece.model.1’ saved [798011/798011]\n",
            "\n"
          ],
          "name": "stdout"
        }
      ]
    },
    {
      "cell_type": "code",
      "metadata": {
        "id": "LNSSCZcKgjws",
        "colab_type": "code",
        "colab": {}
      },
      "source": [
        "# Len of the sentence must be the same as the training model\n",
        "# See model's 'max_position_embeddings' = 512\n",
        "max_len  = 64"
      ],
      "execution_count": 0,
      "outputs": []
    },
    {
      "cell_type": "code",
      "metadata": {
        "id": "9LagVkFAhe_Y",
        "colab_type": "code",
        "colab": {}
      },
      "source": [
        "# With cased model, set do_lower_case = False\n",
        "tokenizer = XLNetTokenizer(vocab_file=vocabulary,do_lower_case=True)"
      ],
      "execution_count": 0,
      "outputs": []
    },
    {
      "cell_type": "code",
      "metadata": {
        "id": "0kH4iAtxhKe8",
        "colab_type": "code",
        "outputId": "78ba4dc6-0e52-4017-b653-7d841d162c62",
        "colab": {
          "base_uri": "https://localhost:8080/",
          "height": 394
        }
      },
      "source": [
        "full_input_ids = []\n",
        "full_input_masks = []\n",
        "full_segment_ids = []\n",
        "\n",
        "SEG_ID_A   = 0\n",
        "SEG_ID_B   = 1\n",
        "SEG_ID_CLS = 2\n",
        "SEG_ID_SEP = 3\n",
        "SEG_ID_PAD = 4\n",
        "\n",
        "UNK_ID = tokenizer.encode(\"<unk>\")[0]\n",
        "CLS_ID = tokenizer.encode(\"<cls>\")[0]\n",
        "SEP_ID = tokenizer.encode(\"<sep>\")[0]\n",
        "MASK_ID = tokenizer.encode(\"<mask>\")[0]\n",
        "EOD_ID = tokenizer.encode(\"<eod>\")[0]\n",
        "\n",
        "for i,sentence in enumerate(sentences):\n",
        "    # Tokenize sentence to token id list\n",
        "    tokens_a = tokenizer.encode(sentence)\n",
        "    \n",
        "    # Trim the len of text\n",
        "    if(len(tokens_a)>max_len-2):\n",
        "        tokens_a = tokens_a[:max_len-2]\n",
        "        \n",
        "        \n",
        "    tokens = []\n",
        "    segment_ids = []\n",
        "    \n",
        "    for token in tokens_a:\n",
        "        tokens.append(token)\n",
        "        segment_ids.append(SEG_ID_A)\n",
        "        \n",
        "    # Add <sep> token \n",
        "    tokens.append(SEP_ID)\n",
        "    segment_ids.append(SEG_ID_A)\n",
        "    \n",
        "    \n",
        "    # Add <cls> token\n",
        "    tokens.append(CLS_ID)\n",
        "    segment_ids.append(SEG_ID_CLS)\n",
        "    \n",
        "    input_ids = tokens\n",
        "    \n",
        "    # The mask has 0 for real tokens and 1 for padding tokens. Only real\n",
        "    # tokens are attended to.\n",
        "    input_mask = [0] * len(input_ids)\n",
        "\n",
        "    # Zero-pad up to the sequence length at fornt\n",
        "    if len(input_ids) < max_len:\n",
        "        delta_len = max_len - len(input_ids)\n",
        "        input_ids = [0] * delta_len + input_ids\n",
        "        input_mask = [1] * delta_len + input_mask\n",
        "        segment_ids = [SEG_ID_PAD] * delta_len + segment_ids\n",
        "\n",
        "    assert len(input_ids) == max_len\n",
        "    assert len(input_mask) == max_len\n",
        "    assert len(segment_ids) == max_len\n",
        "    \n",
        "    full_input_ids.append(input_ids)\n",
        "    full_input_masks.append(input_mask)\n",
        "    full_segment_ids.append(segment_ids)\n",
        "    \n",
        "    if 3 > i:\n",
        "        print(\"No.:%d\"%(i))\n",
        "        print(\"sentence: %s\"%(sentence))\n",
        "        print(\"input_ids:%s\"%(input_ids))\n",
        "        print(\"attention_masks:%s\"%(input_mask))\n",
        "        print(\"segment_ids:%s\"%(segment_ids))\n",
        "        print(\"\\n\")"
      ],
      "execution_count": 0,
      "outputs": [
        {
          "output_type": "stream",
          "text": [
            "No.:0\n",
            "sentence: study computed tomography chest with contrast reason for exam male year old chest pain and esophageal dilation radiation dosage supplied facility volume computed tomography dose index mgy dlp absorbed radiation per kilogram per centimeter technique transaxial imaging wa performed following intravenous administration isovue contrast material individualized dose optimization technique were used for this comparison none finding the lung are normal there demonstrated pleural abnormality normal heart and pericardium normal mediastinum normal hilar region pulmonary embolus are present right lower lobe arterial branch normal aorta arch and descending thoracic aorta normal osseous structure there demonstrated abnormality the visualized upper abdomen impression pulmonary embolus are present right lower lobe arterial branch evidence acute pulmonary mediastinal pathology\n",
            "input_ids:[757, 19712, 66, 22, 98, 6336, 2876, 33, 3377, 994, 28, 6105, 2725, 119, 532, 2876, 1593, 21, 17, 202, 9775, 981, 212, 4425, 8700, 7960, 21173, 7912, 2863, 2961, 19712, 66, 22, 98, 6336, 7540, 1663, 10145, 117, 17, 66, 368, 450, 12350, 7960, 451, 17, 24282, 451, 4607, 150, 4870, 5088, 5128, 30208, 13787, 17, 1829, 2062, 405, 27776, 1048, 4, 3]\n",
            "attention_masks:[0, 0, 0, 0, 0, 0, 0, 0, 0, 0, 0, 0, 0, 0, 0, 0, 0, 0, 0, 0, 0, 0, 0, 0, 0, 0, 0, 0, 0, 0, 0, 0, 0, 0, 0, 0, 0, 0, 0, 0, 0, 0, 0, 0, 0, 0, 0, 0, 0, 0, 0, 0, 0, 0, 0, 0, 0, 0, 0, 0, 0, 0, 0, 0]\n",
            "segment_ids:[0, 0, 0, 0, 0, 0, 0, 0, 0, 0, 0, 0, 0, 0, 0, 0, 0, 0, 0, 0, 0, 0, 0, 0, 0, 0, 0, 0, 0, 0, 0, 0, 0, 0, 0, 0, 0, 0, 0, 0, 0, 0, 0, 0, 0, 0, 0, 0, 0, 0, 0, 0, 0, 0, 0, 0, 0, 0, 0, 0, 0, 0, 0, 2]\n",
            "\n",
            "\n",
            "No.:1\n",
            "sentence: study computed tomography chest with contrast reason for exam male year old chest pain and esophageal dilation radiation dosage supplied facility volume computed tomography dose index mgy dlp absorbed radiation per kilogram per centimeter technique transaxial imaging wa performed following intravenous administration isovue contrast material individualized dose optimization technique were used for this comparison none finding the lung are normal there demonstrated pleural abnormality normal heart and pericardium normal mediastinum normal hilar region pulmonary embolus are present right lower lobe arterial branch normal aorta arch and descending thoracic aorta normal osseous structure there demonstrated abnormality the visualized upper abdomen impression pulmonary embolus are present right lower lobe arterial branch evidence acute pulmonary mediastinal pathology\n",
            "input_ids:[757, 19712, 66, 22, 98, 6336, 2876, 33, 3377, 994, 28, 6105, 2725, 119, 532, 2876, 1593, 21, 17, 202, 9775, 981, 212, 4425, 8700, 7960, 21173, 7912, 2863, 2961, 19712, 66, 22, 98, 6336, 7540, 1663, 10145, 117, 17, 66, 368, 450, 12350, 7960, 451, 17, 24282, 451, 4607, 150, 4870, 5088, 5128, 30208, 13787, 17, 1829, 2062, 405, 27776, 1048, 4, 3]\n",
            "attention_masks:[0, 0, 0, 0, 0, 0, 0, 0, 0, 0, 0, 0, 0, 0, 0, 0, 0, 0, 0, 0, 0, 0, 0, 0, 0, 0, 0, 0, 0, 0, 0, 0, 0, 0, 0, 0, 0, 0, 0, 0, 0, 0, 0, 0, 0, 0, 0, 0, 0, 0, 0, 0, 0, 0, 0, 0, 0, 0, 0, 0, 0, 0, 0, 0]\n",
            "segment_ids:[0, 0, 0, 0, 0, 0, 0, 0, 0, 0, 0, 0, 0, 0, 0, 0, 0, 0, 0, 0, 0, 0, 0, 0, 0, 0, 0, 0, 0, 0, 0, 0, 0, 0, 0, 0, 0, 0, 0, 0, 0, 0, 0, 0, 0, 0, 0, 0, 0, 0, 0, 0, 0, 0, 0, 0, 0, 0, 0, 0, 0, 0, 0, 2]\n",
            "\n",
            "\n",
            "No.:2\n",
            "sentence: study computed tomography chest with contrast reason for exam male year old chest pain and esophageal dilation radiation dosage supplied facility volume computed tomography dose index mgy dlp absorbed radiation per kilogram per centimeter technique transaxial imaging wa performed following intravenous administration isovue contrast material individualized dose optimization technique were used for this comparison none finding the lung are normal there demonstrated pleural abnormality normal heart and pericardium normal mediastinum normal hilar region pulmonary embolus are present right lower lobe arterial branch normal aorta arch and descending thoracic aorta normal osseous structure there demonstrated abnormality the visualized upper abdomen impression pulmonary embolus are present right lower lobe arterial branch evidence acute pulmonary mediastinal pathology\n",
            "input_ids:[757, 19712, 66, 22, 98, 6336, 2876, 33, 3377, 994, 28, 6105, 2725, 119, 532, 2876, 1593, 21, 17, 202, 9775, 981, 212, 4425, 8700, 7960, 21173, 7912, 2863, 2961, 19712, 66, 22, 98, 6336, 7540, 1663, 10145, 117, 17, 66, 368, 450, 12350, 7960, 451, 17, 24282, 451, 4607, 150, 4870, 5088, 5128, 30208, 13787, 17, 1829, 2062, 405, 27776, 1048, 4, 3]\n",
            "attention_masks:[0, 0, 0, 0, 0, 0, 0, 0, 0, 0, 0, 0, 0, 0, 0, 0, 0, 0, 0, 0, 0, 0, 0, 0, 0, 0, 0, 0, 0, 0, 0, 0, 0, 0, 0, 0, 0, 0, 0, 0, 0, 0, 0, 0, 0, 0, 0, 0, 0, 0, 0, 0, 0, 0, 0, 0, 0, 0, 0, 0, 0, 0, 0, 0]\n",
            "segment_ids:[0, 0, 0, 0, 0, 0, 0, 0, 0, 0, 0, 0, 0, 0, 0, 0, 0, 0, 0, 0, 0, 0, 0, 0, 0, 0, 0, 0, 0, 0, 0, 0, 0, 0, 0, 0, 0, 0, 0, 0, 0, 0, 0, 0, 0, 0, 0, 0, 0, 0, 0, 0, 0, 0, 0, 0, 0, 0, 0, 0, 0, 0, 0, 2]\n",
            "\n",
            "\n"
          ],
          "name": "stdout"
        }
      ]
    },
    {
      "cell_type": "code",
      "metadata": {
        "id": "Vh02pOigh3w_",
        "colab_type": "code",
        "outputId": "babeca8a-dbdd-4a15-8713-1960c569053e",
        "colab": {
          "base_uri": "https://localhost:8080/",
          "height": 34
        }
      },
      "source": [
        "# Set label embedding\n",
        "tags = [tag2idx[str(lab)] for lab in labels]\n",
        "print(tags[0:10])"
      ],
      "execution_count": 0,
      "outputs": [
        {
          "output_type": "stream",
          "text": [
            "[1, 1, 1, 1, 1, 1, 1, 1, 1, 1]\n"
          ],
          "name": "stdout"
        }
      ]
    },
    {
      "cell_type": "code",
      "metadata": {
        "id": "0fIppoheh6JY",
        "colab_type": "code",
        "colab": {}
      },
      "source": [
        ""
      ],
      "execution_count": 0,
      "outputs": []
    },
    {
      "cell_type": "markdown",
      "metadata": {
        "id": "Hkt1Rrvjh-lN",
        "colab_type": "text"
      },
      "source": [
        "## Split data into train and validate"
      ]
    },
    {
      "cell_type": "code",
      "metadata": {
        "id": "rZjLloCah93b",
        "colab_type": "code",
        "colab": {}
      },
      "source": [
        "tr_inputs, val_inputs, tr_tags, val_tags,tr_masks, val_masks,tr_segs, val_segs = train_test_split(full_input_ids, tags,full_input_masks,full_segment_ids, random_state=4, test_size=0.3)"
      ],
      "execution_count": 0,
      "outputs": []
    },
    {
      "cell_type": "code",
      "metadata": {
        "id": "MOnhgNQOiBqi",
        "colab_type": "code",
        "outputId": "42916f20-5390-4bfb-b498-bcd2c5632be5",
        "colab": {
          "base_uri": "https://localhost:8080/",
          "height": 34
        }
      },
      "source": [
        "len(tr_inputs),len(val_inputs),len(tr_segs),len(val_segs)"
      ],
      "execution_count": 0,
      "outputs": [
        {
          "output_type": "execute_result",
          "data": {
            "text/plain": [
              "(700, 300, 700, 300)"
            ]
          },
          "metadata": {
            "tags": []
          },
          "execution_count": 76
        }
      ]
    },
    {
      "cell_type": "code",
      "metadata": {
        "id": "hj-CojAHiLRr",
        "colab_type": "code",
        "colab": {}
      },
      "source": [
        "# Set data into tensor\n",
        "tr_inputs = torch.tensor(tr_inputs)\n",
        "val_inputs = torch.tensor(val_inputs)\n",
        "tr_tags = torch.tensor(tr_tags)\n",
        "val_tags = torch.tensor(val_tags)\n",
        "tr_masks = torch.tensor(tr_masks)\n",
        "val_masks = torch.tensor(val_masks)\n",
        "tr_segs = torch.tensor(tr_segs)\n",
        "val_segs = torch.tensor(val_segs)"
      ],
      "execution_count": 0,
      "outputs": []
    },
    {
      "cell_type": "code",
      "metadata": {
        "id": "yV0ydnUpiR7I",
        "colab_type": "code",
        "colab": {}
      },
      "source": [
        "# Set batch num\n",
        "batch_num = 32"
      ],
      "execution_count": 0,
      "outputs": []
    },
    {
      "cell_type": "code",
      "metadata": {
        "id": "vvEVzKmViUsY",
        "colab_type": "code",
        "colab": {}
      },
      "source": [
        "# Set token embedding, attention embedding, segment embedding\n",
        "train_data = TensorDataset(tr_inputs, tr_masks,tr_segs, tr_tags)\n",
        "train_sampler = RandomSampler(train_data)\n",
        "\n",
        "# Drop last can make batch training better for the last one\n",
        "train_dataloader = DataLoader(train_data, sampler=train_sampler, batch_size=batch_num,drop_last=True)\n",
        "valid_data = TensorDataset(val_inputs, val_masks,val_segs, val_tags)\n",
        "valid_sampler = SequentialSampler(valid_data)\n",
        "valid_dataloader = DataLoader(valid_data, sampler=valid_sampler, batch_size=batch_num)"
      ],
      "execution_count": 0,
      "outputs": []
    },
    {
      "cell_type": "code",
      "metadata": {
        "id": "s40nMQh3iWHU",
        "colab_type": "code",
        "colab": {}
      },
      "source": [
        ""
      ],
      "execution_count": 0,
      "outputs": []
    },
    {
      "cell_type": "markdown",
      "metadata": {
        "id": "e697tOuciXtm",
        "colab_type": "text"
      },
      "source": [
        "## Train model"
      ]
    },
    {
      "cell_type": "code",
      "metadata": {
        "id": "idB9Ye6OizoH",
        "colab_type": "code",
        "outputId": "bfaded29-a521-43cb-ca66-7f87a6ae889c",
        "colab": {
          "base_uri": "https://localhost:8080/",
          "height": 391
        }
      },
      "source": [
        "# download the config and the pretrained model for xlnet\n",
        "!wget https://s3.amazonaws.com/models.huggingface.co/bert/xlnet-base-cased-pytorch_model.bin\n",
        "!wget https://s3.amazonaws.com/models.huggingface.co/bert/xlnet-base-cased-config.json"
      ],
      "execution_count": 0,
      "outputs": [
        {
          "output_type": "stream",
          "text": [
            "--2019-08-20 08:11:46--  https://s3.amazonaws.com/models.huggingface.co/bert/xlnet-base-cased-pytorch_model.bin\n",
            "Resolving s3.amazonaws.com (s3.amazonaws.com)... 52.216.160.93\n",
            "Connecting to s3.amazonaws.com (s3.amazonaws.com)|52.216.160.93|:443... connected.\n",
            "HTTP request sent, awaiting response... 200 OK\n",
            "Length: 467042463 (445M) [application/octet-stream]\n",
            "Saving to: ‘xlnet-base-cased-pytorch_model.bin’\n",
            "\n",
            "xlnet-base-cased-py 100%[===================>] 445.41M  43.5MB/s    in 11s     \n",
            "\n",
            "2019-08-20 08:11:57 (42.2 MB/s) - ‘xlnet-base-cased-pytorch_model.bin’ saved [467042463/467042463]\n",
            "\n",
            "--2019-08-20 08:11:58--  https://s3.amazonaws.com/models.huggingface.co/bert/xlnet-base-cased-config.json\n",
            "Resolving s3.amazonaws.com (s3.amazonaws.com)... 52.216.107.126\n",
            "Connecting to s3.amazonaws.com (s3.amazonaws.com)|52.216.107.126|:443... connected.\n",
            "HTTP request sent, awaiting response... 200 OK\n",
            "Length: 641 [application/json]\n",
            "Saving to: ‘xlnet-base-cased-config.json’\n",
            "\n",
            "xlnet-base-cased-co 100%[===================>]     641  --.-KB/s    in 0s      \n",
            "\n",
            "2019-08-20 08:11:59 (13.6 MB/s) - ‘xlnet-base-cased-config.json’ saved [641/641]\n",
            "\n"
          ],
          "name": "stdout"
        }
      ]
    },
    {
      "cell_type": "code",
      "metadata": {
        "id": "Wa-S3xq5jrW1",
        "colab_type": "code",
        "colab": {}
      },
      "source": [
        "# rename the files\n",
        "!mv xlnet-base-cased-config.json config.json\n",
        "!mv xlnet-base-cased-pytorch_model.bin pytorch_model.bin"
      ],
      "execution_count": 0,
      "outputs": []
    },
    {
      "cell_type": "code",
      "metadata": {
        "id": "4mrC9XlFiYNy",
        "colab_type": "code",
        "colab": {}
      },
      "source": [
        "model_file_address = './'"
      ],
      "execution_count": 0,
      "outputs": []
    },
    {
      "cell_type": "code",
      "metadata": {
        "id": "e9jCS9CpikXc",
        "colab_type": "code",
        "colab": {}
      },
      "source": [
        "# model definition\n",
        "model = XLNetForSequenceClassification.from_pretrained(model_file_address,num_labels=len(tag2idx))"
      ],
      "execution_count": 0,
      "outputs": []
    },
    {
      "cell_type": "code",
      "metadata": {
        "id": "bFEbGMq-kdKZ",
        "colab_type": "code",
        "colab": {}
      },
      "source": [
        "# load model to GPU\n",
        "model.to(device)"
      ],
      "execution_count": 0,
      "outputs": []
    },
    {
      "cell_type": "code",
      "metadata": {
        "id": "f2SQ4Esokggx",
        "colab_type": "code",
        "colab": {}
      },
      "source": [
        "# Add multi GPU support\n",
        "if n_gpu >1:\n",
        "    model = torch.nn.DataParallel(model)"
      ],
      "execution_count": 0,
      "outputs": []
    },
    {
      "cell_type": "code",
      "metadata": {
        "id": "GnNXhqxsknha",
        "colab_type": "code",
        "colab": {}
      },
      "source": [
        "# Set epoch and grad max num\n",
        "epochs = 50\n",
        "max_grad_norm = 1.0"
      ],
      "execution_count": 0,
      "outputs": []
    },
    {
      "cell_type": "code",
      "metadata": {
        "id": "sZ5Jnxl_kpLW",
        "colab_type": "code",
        "colab": {}
      },
      "source": [
        "# Cacluate train optimiazaion num\n",
        "num_train_optimization_steps = int( math.ceil(len(tr_inputs) / batch_num) / 1) * epochs"
      ],
      "execution_count": 0,
      "outputs": []
    },
    {
      "cell_type": "markdown",
      "metadata": {
        "id": "1VBp-FkFk2w6",
        "colab_type": "text"
      },
      "source": [
        "## Set fine tuning method"
      ]
    },
    {
      "cell_type": "code",
      "metadata": {
        "id": "24bByviYk3MN",
        "colab_type": "code",
        "colab": {}
      },
      "source": [
        "# True: fine tuning all the layers \n",
        "# False: only fine tuning the classifier layers\n",
        "FULL_FINETUNING = True"
      ],
      "execution_count": 0,
      "outputs": []
    },
    {
      "cell_type": "code",
      "metadata": {
        "id": "MUlFpuLQmTzY",
        "colab_type": "code",
        "colab": {}
      },
      "source": [
        "if FULL_FINETUNING:\n",
        "    # Fine tune model all layer parameters\n",
        "    param_optimizer = list(model.named_parameters())\n",
        "    no_decay = ['bias', 'gamma', 'beta']\n",
        "    optimizer_grouped_parameters = [\n",
        "        {'params': [p for n, p in param_optimizer if not any(nd in n for nd in no_decay)],\n",
        "         'weight_decay_rate': 0.01},\n",
        "        {'params': [p for n, p in param_optimizer if any(nd in n for nd in no_decay)],\n",
        "         'weight_decay_rate': 0.0}\n",
        "    ]\n",
        "else:\n",
        "    # Only fine tune classifier parameters\n",
        "    param_optimizer = list(model.named_parameters()) \n",
        "    optimizer_grouped_parameters = [{\"params\": [p for n, p in param_optimizer]}]\n",
        "optimizer = Adam(optimizer_grouped_parameters, lr=3e-5)"
      ],
      "execution_count": 0,
      "outputs": []
    },
    {
      "cell_type": "code",
      "metadata": {
        "id": "zte1z22AmW0B",
        "colab_type": "code",
        "colab": {}
      },
      "source": [
        ""
      ],
      "execution_count": 0,
      "outputs": []
    },
    {
      "cell_type": "markdown",
      "metadata": {
        "id": "uK9IbLWfmZD0",
        "colab_type": "text"
      },
      "source": [
        "## Fine-tuing model"
      ]
    },
    {
      "cell_type": "code",
      "metadata": {
        "id": "Q8aX5a1OmZg9",
        "colab_type": "code",
        "colab": {}
      },
      "source": [
        "# TRAIN loop\n",
        "model.train();"
      ],
      "execution_count": 0,
      "outputs": []
    },
    {
      "cell_type": "code",
      "metadata": {
        "id": "LLpPbs06mcGX",
        "colab_type": "code",
        "outputId": "94115577-b83d-4b38-92a5-938e33b0a418",
        "colab": {
          "base_uri": "https://localhost:8080/",
          "height": 952
        }
      },
      "source": [
        "# training code\n",
        "\n",
        "print(\"***** Running training *****\")\n",
        "print(\"  Num examples = %d\"%(len(tr_inputs)))\n",
        "print(\"  Batch size = %d\"%(batch_num))\n",
        "print(\"  Num steps = %d\"%(num_train_optimization_steps))\n",
        "for _ in trange(epochs,desc=\"Epoch\"):\n",
        "    tr_loss = 0\n",
        "    nb_tr_examples, nb_tr_steps = 0, 0\n",
        "    for step, batch in enumerate(train_dataloader):\n",
        "        # add batch to gpu\n",
        "        batch = tuple(t.to(device) for t in batch)\n",
        "        b_input_ids, b_input_mask, b_segs,b_labels = batch\n",
        "        \n",
        "        # forward pass\n",
        "        outputs = model(input_ids =b_input_ids,token_type_ids=b_segs, input_mask = b_input_mask,labels=b_labels)\n",
        "        loss, logits = outputs[:2]\n",
        "        if n_gpu>1:\n",
        "            # When multi gpu, average it\n",
        "            loss = loss.mean()\n",
        "        \n",
        "        # backward pass\n",
        "        loss.backward()\n",
        "        \n",
        "        # track train loss\n",
        "        tr_loss += loss.item()\n",
        "        nb_tr_examples += b_input_ids.size(0)\n",
        "        nb_tr_steps += 1\n",
        "        \n",
        "        # gradient clipping\n",
        "        torch.nn.utils.clip_grad_norm_(parameters=model.parameters(), max_norm=max_grad_norm)\n",
        "        \n",
        "        # update parameters\n",
        "        optimizer.step()\n",
        "        optimizer.zero_grad()\n",
        "        \n",
        "    # print train loss per epoch\n",
        "    print(\"Train loss: {}\".format(tr_loss/nb_tr_steps))"
      ],
      "execution_count": 0,
      "outputs": [
        {
          "output_type": "stream",
          "text": [
            "\rEpoch:   0%|          | 0/50 [00:00<?, ?it/s]"
          ],
          "name": "stderr"
        },
        {
          "output_type": "stream",
          "text": [
            "***** Running training *****\n",
            "  Num examples = 700\n",
            "  Batch size = 32\n",
            "  Num steps = 1100\n"
          ],
          "name": "stdout"
        },
        {
          "output_type": "stream",
          "text": [
            "\rEpoch:   2%|▏         | 1/50 [00:21<17:52, 21.90s/it]"
          ],
          "name": "stderr"
        },
        {
          "output_type": "stream",
          "text": [
            "Train loss: 0.0434840577876284\n"
          ],
          "name": "stdout"
        },
        {
          "output_type": "stream",
          "text": [
            "\rEpoch:   4%|▍         | 2/50 [00:43<17:29, 21.86s/it]"
          ],
          "name": "stderr"
        },
        {
          "output_type": "stream",
          "text": [
            "Train loss: 0.02763700547317664\n"
          ],
          "name": "stdout"
        },
        {
          "output_type": "stream",
          "text": [
            "\rEpoch:   6%|▌         | 3/50 [01:05<17:06, 21.83s/it]"
          ],
          "name": "stderr"
        },
        {
          "output_type": "stream",
          "text": [
            "Train loss: 0.08767268230162915\n"
          ],
          "name": "stdout"
        },
        {
          "output_type": "stream",
          "text": [
            "\rEpoch:   8%|▊         | 4/50 [01:27<16:42, 21.79s/it]"
          ],
          "name": "stderr"
        },
        {
          "output_type": "stream",
          "text": [
            "Train loss: 0.04060234626134237\n"
          ],
          "name": "stdout"
        },
        {
          "output_type": "stream",
          "text": [
            "\rEpoch:  10%|█         | 5/50 [01:48<16:18, 21.75s/it]"
          ],
          "name": "stderr"
        },
        {
          "output_type": "stream",
          "text": [
            "Train loss: 0.03447526289771\n"
          ],
          "name": "stdout"
        },
        {
          "output_type": "stream",
          "text": [
            "\rEpoch:  12%|█▏        | 6/50 [02:10<15:57, 21.75s/it]"
          ],
          "name": "stderr"
        },
        {
          "output_type": "stream",
          "text": [
            "Train loss: 0.07827247173658439\n"
          ],
          "name": "stdout"
        },
        {
          "output_type": "stream",
          "text": [
            "\rEpoch:  14%|█▍        | 7/50 [02:32<15:35, 21.74s/it]"
          ],
          "name": "stderr"
        },
        {
          "output_type": "stream",
          "text": [
            "Train loss: 0.07294946390071086\n"
          ],
          "name": "stdout"
        },
        {
          "output_type": "stream",
          "text": [
            "\rEpoch:  16%|█▌        | 8/50 [02:54<15:13, 21.74s/it]"
          ],
          "name": "stderr"
        },
        {
          "output_type": "stream",
          "text": [
            "Train loss: 0.06283354125029984\n"
          ],
          "name": "stdout"
        },
        {
          "output_type": "stream",
          "text": [
            "\rEpoch:  18%|█▊        | 9/50 [03:15<14:50, 21.72s/it]"
          ],
          "name": "stderr"
        },
        {
          "output_type": "stream",
          "text": [
            "Train loss: 0.045368382574192116\n"
          ],
          "name": "stdout"
        },
        {
          "output_type": "stream",
          "text": [
            "\rEpoch:  20%|██        | 10/50 [03:37<14:29, 21.73s/it]"
          ],
          "name": "stderr"
        },
        {
          "output_type": "stream",
          "text": [
            "Train loss: 0.054584335624462084\n"
          ],
          "name": "stdout"
        },
        {
          "output_type": "stream",
          "text": [
            "\rEpoch:  22%|██▏       | 11/50 [03:59<14:07, 21.72s/it]"
          ],
          "name": "stderr"
        },
        {
          "output_type": "stream",
          "text": [
            "Train loss: 0.04626942590056431\n"
          ],
          "name": "stdout"
        },
        {
          "output_type": "stream",
          "text": [
            "\rEpoch:  24%|██▍       | 12/50 [04:20<13:45, 21.73s/it]"
          ],
          "name": "stderr"
        },
        {
          "output_type": "stream",
          "text": [
            "Train loss: 0.048989996269700076\n"
          ],
          "name": "stdout"
        },
        {
          "output_type": "stream",
          "text": [
            "\rEpoch:  26%|██▌       | 13/50 [04:42<13:23, 21.73s/it]"
          ],
          "name": "stderr"
        },
        {
          "output_type": "stream",
          "text": [
            "Train loss: 0.024575138775010903\n"
          ],
          "name": "stdout"
        },
        {
          "output_type": "stream",
          "text": [
            "\rEpoch:  28%|██▊       | 14/50 [05:04<13:02, 21.73s/it]"
          ],
          "name": "stderr"
        },
        {
          "output_type": "stream",
          "text": [
            "Train loss: 0.03625965269193763\n"
          ],
          "name": "stdout"
        },
        {
          "output_type": "stream",
          "text": [
            "\rEpoch:  30%|███       | 15/50 [05:25<12:38, 21.68s/it]"
          ],
          "name": "stderr"
        },
        {
          "output_type": "stream",
          "text": [
            "Train loss: 0.02548893230656783\n"
          ],
          "name": "stdout"
        },
        {
          "output_type": "stream",
          "text": [
            "\rEpoch:  32%|███▏      | 16/50 [05:47<12:16, 21.67s/it]"
          ],
          "name": "stderr"
        },
        {
          "output_type": "stream",
          "text": [
            "Train loss: 0.023971654785176117\n"
          ],
          "name": "stdout"
        },
        {
          "output_type": "stream",
          "text": [
            "\rEpoch:  34%|███▍      | 17/50 [06:09<11:55, 21.67s/it]"
          ],
          "name": "stderr"
        },
        {
          "output_type": "stream",
          "text": [
            "Train loss: 0.020384643226861954\n"
          ],
          "name": "stdout"
        },
        {
          "output_type": "stream",
          "text": [
            "\rEpoch:  36%|███▌      | 18/50 [06:30<11:33, 21.68s/it]"
          ],
          "name": "stderr"
        },
        {
          "output_type": "stream",
          "text": [
            "Train loss: 0.031213146457005115\n"
          ],
          "name": "stdout"
        },
        {
          "output_type": "stream",
          "text": [
            "\rEpoch:  38%|███▊      | 19/50 [06:52<11:12, 21.69s/it]"
          ],
          "name": "stderr"
        },
        {
          "output_type": "stream",
          "text": [
            "Train loss: 0.022357652451665627\n"
          ],
          "name": "stdout"
        },
        {
          "output_type": "stream",
          "text": [
            "\rEpoch:  40%|████      | 20/50 [07:14<10:50, 21.69s/it]"
          ],
          "name": "stderr"
        },
        {
          "output_type": "stream",
          "text": [
            "Train loss: 0.018051324323529287\n"
          ],
          "name": "stdout"
        },
        {
          "output_type": "stream",
          "text": [
            "\rEpoch:  42%|████▏     | 21/50 [07:36<10:29, 21.70s/it]"
          ],
          "name": "stderr"
        },
        {
          "output_type": "stream",
          "text": [
            "Train loss: 0.05166825182026341\n"
          ],
          "name": "stdout"
        },
        {
          "output_type": "stream",
          "text": [
            "\rEpoch:  44%|████▍     | 22/50 [07:57<10:08, 21.72s/it]"
          ],
          "name": "stderr"
        },
        {
          "output_type": "stream",
          "text": [
            "Train loss: 0.04621710827840226\n"
          ],
          "name": "stdout"
        },
        {
          "output_type": "stream",
          "text": [
            "\rEpoch:  46%|████▌     | 23/50 [08:19<09:46, 21.72s/it]"
          ],
          "name": "stderr"
        },
        {
          "output_type": "stream",
          "text": [
            "Train loss: 0.03773940199365219\n"
          ],
          "name": "stdout"
        },
        {
          "output_type": "stream",
          "text": [
            "\rEpoch:  48%|████▊     | 24/50 [08:41<09:24, 21.72s/it]"
          ],
          "name": "stderr"
        },
        {
          "output_type": "stream",
          "text": [
            "Train loss: 0.052271101490727494\n"
          ],
          "name": "stdout"
        },
        {
          "output_type": "stream",
          "text": [
            "\rEpoch:  50%|█████     | 25/50 [09:03<09:03, 21.74s/it]"
          ],
          "name": "stderr"
        },
        {
          "output_type": "stream",
          "text": [
            "Train loss: 0.03850399720526877\n"
          ],
          "name": "stdout"
        },
        {
          "output_type": "stream",
          "text": [
            "\rEpoch:  52%|█████▏    | 26/50 [09:24<08:41, 21.74s/it]"
          ],
          "name": "stderr"
        },
        {
          "output_type": "stream",
          "text": [
            "Train loss: 0.04236631995687882\n"
          ],
          "name": "stdout"
        },
        {
          "output_type": "stream",
          "text": [
            "\rEpoch:  54%|█████▍    | 27/50 [09:46<08:19, 21.74s/it]"
          ],
          "name": "stderr"
        },
        {
          "output_type": "stream",
          "text": [
            "Train loss: 0.03977356363265287\n"
          ],
          "name": "stdout"
        },
        {
          "output_type": "stream",
          "text": [
            "\rEpoch:  56%|█████▌    | 28/50 [10:08<07:58, 21.73s/it]"
          ],
          "name": "stderr"
        },
        {
          "output_type": "stream",
          "text": [
            "Train loss: 0.03367176847088905\n"
          ],
          "name": "stdout"
        },
        {
          "output_type": "stream",
          "text": [
            "\rEpoch:  58%|█████▊    | 29/50 [10:29<07:36, 21.73s/it]"
          ],
          "name": "stderr"
        },
        {
          "output_type": "stream",
          "text": [
            "Train loss: 0.04862955061807519\n"
          ],
          "name": "stdout"
        },
        {
          "output_type": "stream",
          "text": [
            "\rEpoch:  60%|██████    | 30/50 [10:51<07:14, 21.74s/it]"
          ],
          "name": "stderr"
        },
        {
          "output_type": "stream",
          "text": [
            "Train loss: 0.0406802153835694\n"
          ],
          "name": "stdout"
        },
        {
          "output_type": "stream",
          "text": [
            "\rEpoch:  62%|██████▏   | 31/50 [11:13<06:52, 21.74s/it]"
          ],
          "name": "stderr"
        },
        {
          "output_type": "stream",
          "text": [
            "Train loss: 0.029954807389350163\n"
          ],
          "name": "stdout"
        },
        {
          "output_type": "stream",
          "text": [
            "\rEpoch:  64%|██████▍   | 32/50 [11:35<06:30, 21.72s/it]"
          ],
          "name": "stderr"
        },
        {
          "output_type": "stream",
          "text": [
            "Train loss: 0.03618876024016312\n"
          ],
          "name": "stdout"
        },
        {
          "output_type": "stream",
          "text": [
            "\rEpoch:  66%|██████▌   | 33/50 [11:56<06:09, 21.72s/it]"
          ],
          "name": "stderr"
        },
        {
          "output_type": "stream",
          "text": [
            "Train loss: 0.025428134859317823\n"
          ],
          "name": "stdout"
        },
        {
          "output_type": "stream",
          "text": [
            "\rEpoch:  68%|██████▊   | 34/50 [12:18<05:47, 21.71s/it]"
          ],
          "name": "stderr"
        },
        {
          "output_type": "stream",
          "text": [
            "Train loss: 0.024632032871955915\n"
          ],
          "name": "stdout"
        },
        {
          "output_type": "stream",
          "text": [
            "\rEpoch:  70%|███████   | 35/50 [12:40<05:25, 21.70s/it]"
          ],
          "name": "stderr"
        },
        {
          "output_type": "stream",
          "text": [
            "Train loss: 0.03668307539607797\n"
          ],
          "name": "stdout"
        },
        {
          "output_type": "stream",
          "text": [
            "\rEpoch:  72%|███████▏  | 36/50 [13:01<05:03, 21.70s/it]"
          ],
          "name": "stderr"
        },
        {
          "output_type": "stream",
          "text": [
            "Train loss: 0.025823348955739112\n"
          ],
          "name": "stdout"
        },
        {
          "output_type": "stream",
          "text": [
            "\rEpoch:  74%|███████▍  | 37/50 [13:23<04:42, 21.69s/it]"
          ],
          "name": "stderr"
        },
        {
          "output_type": "stream",
          "text": [
            "Train loss: 0.02042389080105793\n"
          ],
          "name": "stdout"
        },
        {
          "output_type": "stream",
          "text": [
            "\rEpoch:  76%|███████▌  | 38/50 [13:45<04:20, 21.70s/it]"
          ],
          "name": "stderr"
        },
        {
          "output_type": "stream",
          "text": [
            "Train loss: 0.020382489831674667\n"
          ],
          "name": "stdout"
        },
        {
          "output_type": "stream",
          "text": [
            "\rEpoch:  78%|███████▊  | 39/50 [14:06<03:58, 21.70s/it]"
          ],
          "name": "stderr"
        },
        {
          "output_type": "stream",
          "text": [
            "Train loss: 0.024589041336661295\n"
          ],
          "name": "stdout"
        },
        {
          "output_type": "stream",
          "text": [
            "\rEpoch:  80%|████████  | 40/50 [14:28<03:36, 21.68s/it]"
          ],
          "name": "stderr"
        },
        {
          "output_type": "stream",
          "text": [
            "Train loss: 0.0332695757526727\n"
          ],
          "name": "stdout"
        },
        {
          "output_type": "stream",
          "text": [
            "\rEpoch:  82%|████████▏ | 41/50 [14:50<03:15, 21.68s/it]"
          ],
          "name": "stderr"
        },
        {
          "output_type": "stream",
          "text": [
            "Train loss: 0.02270529791712761\n"
          ],
          "name": "stdout"
        },
        {
          "output_type": "stream",
          "text": [
            "\rEpoch:  84%|████████▍ | 42/50 [15:12<02:53, 21.69s/it]"
          ],
          "name": "stderr"
        },
        {
          "output_type": "stream",
          "text": [
            "Train loss: 0.035145257599651814\n"
          ],
          "name": "stdout"
        },
        {
          "output_type": "stream",
          "text": [
            "\rEpoch:  86%|████████▌ | 43/50 [15:33<02:31, 21.68s/it]"
          ],
          "name": "stderr"
        },
        {
          "output_type": "stream",
          "text": [
            "Train loss: 0.02177392052752631\n"
          ],
          "name": "stdout"
        },
        {
          "output_type": "stream",
          "text": [
            "\rEpoch:  88%|████████▊ | 44/50 [15:55<02:09, 21.66s/it]"
          ],
          "name": "stderr"
        },
        {
          "output_type": "stream",
          "text": [
            "Train loss: 0.020429343960824468\n"
          ],
          "name": "stdout"
        },
        {
          "output_type": "stream",
          "text": [
            "\rEpoch:  90%|█████████ | 45/50 [16:16<01:48, 21.67s/it]"
          ],
          "name": "stderr"
        },
        {
          "output_type": "stream",
          "text": [
            "Train loss: 0.021364473116894562\n"
          ],
          "name": "stdout"
        },
        {
          "output_type": "stream",
          "text": [
            "\rEpoch:  92%|█████████▏| 46/50 [16:38<01:26, 21.66s/it]"
          ],
          "name": "stderr"
        },
        {
          "output_type": "stream",
          "text": [
            "Train loss: 0.020013450423166865\n"
          ],
          "name": "stdout"
        },
        {
          "output_type": "stream",
          "text": [
            "\rEpoch:  94%|█████████▍| 47/50 [17:00<01:05, 21.67s/it]"
          ],
          "name": "stderr"
        },
        {
          "output_type": "stream",
          "text": [
            "Train loss: 0.026364826020740327\n"
          ],
          "name": "stdout"
        },
        {
          "output_type": "stream",
          "text": [
            "\rEpoch:  96%|█████████▌| 48/50 [17:21<00:43, 21.67s/it]"
          ],
          "name": "stderr"
        },
        {
          "output_type": "stream",
          "text": [
            "Train loss: 0.02445637984644799\n"
          ],
          "name": "stdout"
        },
        {
          "output_type": "stream",
          "text": [
            "\rEpoch:  98%|█████████▊| 49/50 [17:43<00:21, 21.68s/it]"
          ],
          "name": "stderr"
        },
        {
          "output_type": "stream",
          "text": [
            "Train loss: 0.0212004031719906\n"
          ],
          "name": "stdout"
        },
        {
          "output_type": "stream",
          "text": [
            "\rEpoch: 100%|██████████| 50/50 [18:05<00:00, 21.69s/it]"
          ],
          "name": "stderr"
        },
        {
          "output_type": "stream",
          "text": [
            "Train loss: 0.021344519619430815\n"
          ],
          "name": "stdout"
        },
        {
          "output_type": "stream",
          "text": [
            "\n"
          ],
          "name": "stderr"
        }
      ]
    },
    {
      "cell_type": "markdown",
      "metadata": {
        "id": "rlP1i-NlDS4n",
        "colab_type": "text"
      },
      "source": [
        ""
      ]
    },
    {
      "cell_type": "code",
      "metadata": {
        "id": "mrQh8po8meus",
        "colab_type": "code",
        "colab": {}
      },
      "source": [
        "# output directory\n",
        "xlnet_out_address = 'xlnet_out_model'\n",
        "\n",
        "if not os.path.exists(xlnet_out_address):\n",
        "  os.makedirs(xlnet_out_address)"
      ],
      "execution_count": 0,
      "outputs": []
    },
    {
      "cell_type": "code",
      "metadata": {
        "id": "jTnuf9-xmqjQ",
        "colab_type": "code",
        "colab": {}
      },
      "source": [
        "# Save a trained model, configuration and tokenizer\n",
        "model_to_save = model.module if hasattr(model, 'module') else model  # Only save the model it-self"
      ],
      "execution_count": 0,
      "outputs": []
    },
    {
      "cell_type": "code",
      "metadata": {
        "id": "y421kOTOmw6M",
        "colab_type": "code",
        "colab": {}
      },
      "source": [
        "# If we save using the predefined names, we can load using `from_pretrained`\n",
        "output_model_file = os.path.join(xlnet_out_address, \"pytorch_model.bin\")\n",
        "output_config_file = os.path.join(xlnet_out_address, \"config.json\")"
      ],
      "execution_count": 0,
      "outputs": []
    },
    {
      "cell_type": "code",
      "metadata": {
        "id": "bxU8tK7mmzFk",
        "colab_type": "code",
        "outputId": "c93cb498-f422-4e95-9330-044d65c3a4bf",
        "colab": {
          "base_uri": "https://localhost:8080/",
          "height": 34
        }
      },
      "source": [
        "# Save model into file\n",
        "torch.save(model_to_save.state_dict(), output_model_file)\n",
        "model_to_save.config.to_json_file(output_config_file)\n",
        "tokenizer.save_vocabulary(xlnet_out_address)"
      ],
      "execution_count": 0,
      "outputs": [
        {
          "output_type": "execute_result",
          "data": {
            "text/plain": [
              "('xlnet_out_model/spiece.model',)"
            ]
          },
          "metadata": {
            "tags": []
          },
          "execution_count": 112
        }
      ]
    },
    {
      "cell_type": "code",
      "metadata": {
        "id": "rthkJLwgm1jH",
        "colab_type": "code",
        "colab": {}
      },
      "source": [
        ""
      ],
      "execution_count": 0,
      "outputs": []
    },
    {
      "cell_type": "markdown",
      "metadata": {
        "id": "MniwsipOm3Vc",
        "colab_type": "text"
      },
      "source": [
        "## Load model"
      ]
    },
    {
      "cell_type": "code",
      "metadata": {
        "id": "oFSD-WZMm37G",
        "colab_type": "code",
        "colab": {}
      },
      "source": [
        "model = XLNetForSequenceClassification.from_pretrained(xlnet_out_address,num_labels=len(tag2idx))"
      ],
      "execution_count": 0,
      "outputs": []
    },
    {
      "cell_type": "code",
      "metadata": {
        "id": "ROPE2S6gm5QY",
        "colab_type": "code",
        "colab": {}
      },
      "source": [
        "# Set model to GPU\n",
        "model.to(device);"
      ],
      "execution_count": 0,
      "outputs": []
    },
    {
      "cell_type": "code",
      "metadata": {
        "id": "l_adrdBAm6cf",
        "colab_type": "code",
        "colab": {}
      },
      "source": [
        "# make use of multiple gpus if present\n",
        "if n_gpu >1:\n",
        "    model = torch.nn.DataParallel(model)"
      ],
      "execution_count": 0,
      "outputs": []
    },
    {
      "cell_type": "markdown",
      "metadata": {
        "id": "jsLgCs0Wm9Ms",
        "colab_type": "text"
      },
      "source": [
        "## Eval model"
      ]
    },
    {
      "cell_type": "code",
      "metadata": {
        "id": "eiDFPD5zm9sR",
        "colab_type": "code",
        "colab": {}
      },
      "source": [
        "# Evalue loop\n",
        "model.eval();"
      ],
      "execution_count": 0,
      "outputs": []
    },
    {
      "cell_type": "code",
      "metadata": {
        "id": "CiZOCHwFm_WY",
        "colab_type": "code",
        "colab": {}
      },
      "source": [
        "# Set acc funtion\n",
        "def accuracy(out, labels):\n",
        "    outputs = np.argmax(out, axis=1)\n",
        "    return np.sum(outputs == labels)"
      ],
      "execution_count": 0,
      "outputs": []
    },
    {
      "cell_type": "code",
      "metadata": {
        "id": "VY_EGmY_nAm8",
        "colab_type": "code",
        "outputId": "24850e5b-b85e-4381-b662-6ab5c180a3b4",
        "colab": {
          "base_uri": "https://localhost:8080/",
          "height": 289
        }
      },
      "source": [
        "eval_loss, eval_accuracy = 0, 0\n",
        "nb_eval_steps, nb_eval_examples = 0, 0\n",
        "\n",
        "y_true = []\n",
        "y_predict = []\n",
        "print(\"***** Running evaluation *****\")\n",
        "print(\"  Num examples ={}\".format(len(val_inputs)))\n",
        "print(\"  Batch size = {}\".format(batch_num))\n",
        "for step, batch in enumerate(valid_dataloader):\n",
        "    batch = tuple(t.to(device) for t in batch)\n",
        "    b_input_ids, b_input_mask, b_segs,b_labels = batch\n",
        "    \n",
        "    with torch.no_grad():\n",
        "        outputs = model(input_ids =b_input_ids,token_type_ids=b_segs, input_mask = b_input_mask,labels=b_labels)\n",
        "        tmp_eval_loss, logits = outputs[:2]\n",
        "    \n",
        "    # Get textclassification predict result\n",
        "    logits = logits.detach().cpu().numpy()\n",
        "    label_ids = b_labels.to('cpu').numpy()\n",
        "    tmp_eval_accuracy = accuracy(logits, label_ids)\n",
        "#     print(tmp_eval_accuracy)\n",
        "#     print(np.argmax(logits, axis=1))\n",
        "#     print(label_ids)\n",
        "    \n",
        "    # Save predict and real label reuslt for analyze\n",
        "    for predict in np.argmax(logits, axis=1):\n",
        "        y_predict.append(predict)\n",
        "        \n",
        "    for real_result in label_ids.tolist():\n",
        "        y_true.append(real_result)\n",
        "\n",
        "    \n",
        "    eval_loss += tmp_eval_loss.mean().item()\n",
        "    eval_accuracy += tmp_eval_accuracy\n",
        "   \n",
        "    nb_eval_steps += 1\n",
        "    \n",
        "    \n",
        "eval_loss = eval_loss / nb_eval_steps\n",
        "eval_accuracy = eval_accuracy / len(val_inputs)\n",
        "loss = tr_loss/nb_tr_steps \n",
        "result = {'eval_loss': eval_loss,\n",
        "                  'eval_accuracy': eval_accuracy,\n",
        "                  'loss': loss}\n",
        "report = classification_report(y_pred=np.array(y_predict),y_true=np.array(y_true))\n",
        "\n",
        "# Save the report into file\n",
        "output_eval_file = os.path.join(xlnet_out_address, \"eval_results.txt\")\n",
        "with open(output_eval_file, \"w\") as writer:\n",
        "    print(\"***** Eval results *****\")\n",
        "    for key in sorted(result.keys()):\n",
        "        print(\"  %s = %s\"%(key, str(result[key])))\n",
        "        writer.write(\"%s = %s\\n\" % (key, str(result[key])))\n",
        "        \n",
        "    print(report)\n",
        "    writer.write(\"\\n\\n\")  \n",
        "    writer.write(report)"
      ],
      "execution_count": 0,
      "outputs": [
        {
          "output_type": "stream",
          "text": [
            "***** Running evaluation *****\n",
            "  Num examples =300\n",
            "  Batch size = 32\n",
            "***** Eval results *****\n",
            "  eval_accuracy = 0.8766666666666667\n",
            "  eval_loss = 1.284832239151001\n",
            "  loss = 0.021344519619430815\n",
            "              precision    recall  f1-score   support\n",
            "\n",
            "           0       0.88      0.87      0.88       151\n",
            "           1       0.87      0.88      0.88       149\n",
            "\n",
            "    accuracy                           0.88       300\n",
            "   macro avg       0.88      0.88      0.88       300\n",
            "weighted avg       0.88      0.88      0.88       300\n",
            "\n"
          ],
          "name": "stdout"
        }
      ]
    },
    {
      "cell_type": "code",
      "metadata": {
        "id": "2-uE1A6E8BHK",
        "colab_type": "code",
        "colab": {}
      },
      "source": [
        ""
      ],
      "execution_count": 0,
      "outputs": []
    }
  ]
}