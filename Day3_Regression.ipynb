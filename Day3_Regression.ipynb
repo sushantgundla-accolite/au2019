{
 "cells": [
  {
   "cell_type": "markdown",
   "metadata": {},
   "source": [
    "<h1><center>Day3 Assignment (Regression)<center></h1>"
   ]
  },
  {
   "cell_type": "markdown",
   "metadata": {},
   "source": [
    "### Do a simple linear regression\n",
    "- take random data\n",
    "- find initial parameters ($\\theta$0 and $\\theta$1)\n",
    "- predict data using initial parameters\n",
    "- calculate error using these predicted values"
   ]
  },
  {
   "cell_type": "code",
   "execution_count": 1,
   "metadata": {},
   "outputs": [],
   "source": [
    "# Some random Data\n",
    "x = [8.71, 8.27, 10.13, 10.56, 9.49, 9.24, 8.28, 12.22, 10.34, 10.74, 13.14, 8.81, 11.61, 13.5, 15.2, 12.54, 14.93, 13.01, 16.2, 14.16]\n",
    "y = [8.41, 6.35, 10.49, 9.77, 10.47, 8.65, 7.91, 11.34, 10.08, 10.79, 14.39, 11.57, 11.57, 13.93, 12.85, 15.77, 14.26, 15.82, 16.23, 18.43]"
   ]
  },
  {
   "cell_type": "code",
   "execution_count": 2,
   "metadata": {},
   "outputs": [],
   "source": [
    "def getInitialParameters(x,y):\n",
    "    '''\n",
    "    Returns the initial parameters for linear regression\n",
    "    '''\n",
    "    x_mean,y_mean = sum(x)/len(x), sum(y)/len(y)\n",
    "    theta1 = sum([(i-x_mean)*(j-y_mean) for i,j in zip(x,y)]) / sum([(i-x_mean) ** 2 for i in x])\n",
    "    theta0 = y_mean-(theta1 * x_mean)\n",
    "    return theta0, theta1"
   ]
  },
  {
   "cell_type": "code",
   "execution_count": 3,
   "metadata": {},
   "outputs": [
    {
     "name": "stdout",
     "output_type": "stream",
     "text": [
      " Initial theta0 = -0.6699415559029145\n",
      " Initial theta1 = 1.0926035620480279\n"
     ]
    }
   ],
   "source": [
    "# print initial parameters for linear regression\n",
    "theta0, theta1 = getInitialParameters(x,y)\n",
    "print(' Initial theta0 = {}\\n Initial theta1 = {}'.format(theta0, theta1))"
   ]
  },
  {
   "cell_type": "code",
   "execution_count": 4,
   "metadata": {},
   "outputs": [],
   "source": [
    "# import pandas\n",
    "import pandas as pd\n",
    "\n",
    "# predict y from x using initial parameters and put it in a dataframe\n",
    "y_pred = [round(theta0 + theta1*i,2) for i in x]\n",
    "df = pd.DataFrame(zip(x,y,y_pred),columns=['x','y','y_pred'])"
   ]
  },
  {
   "cell_type": "code",
   "execution_count": 5,
   "metadata": {
    "scrolled": false
   },
   "outputs": [
    {
     "data": {
      "text/html": [
       "<div>\n",
       "<style scoped>\n",
       "    .dataframe tbody tr th:only-of-type {\n",
       "        vertical-align: middle;\n",
       "    }\n",
       "\n",
       "    .dataframe tbody tr th {\n",
       "        vertical-align: top;\n",
       "    }\n",
       "\n",
       "    .dataframe thead th {\n",
       "        text-align: right;\n",
       "    }\n",
       "</style>\n",
       "<table border=\"1\" class=\"dataframe\">\n",
       "  <thead>\n",
       "    <tr style=\"text-align: right;\">\n",
       "      <th></th>\n",
       "      <th>x</th>\n",
       "      <th>y</th>\n",
       "      <th>y_pred</th>\n",
       "      <th>Absolute Error</th>\n",
       "    </tr>\n",
       "  </thead>\n",
       "  <tbody>\n",
       "    <tr>\n",
       "      <th>0</th>\n",
       "      <td>8.71</td>\n",
       "      <td>8.41</td>\n",
       "      <td>8.85</td>\n",
       "      <td>0.44</td>\n",
       "    </tr>\n",
       "    <tr>\n",
       "      <th>1</th>\n",
       "      <td>8.27</td>\n",
       "      <td>6.35</td>\n",
       "      <td>8.37</td>\n",
       "      <td>2.02</td>\n",
       "    </tr>\n",
       "    <tr>\n",
       "      <th>2</th>\n",
       "      <td>10.13</td>\n",
       "      <td>10.49</td>\n",
       "      <td>10.40</td>\n",
       "      <td>0.09</td>\n",
       "    </tr>\n",
       "    <tr>\n",
       "      <th>3</th>\n",
       "      <td>10.56</td>\n",
       "      <td>9.77</td>\n",
       "      <td>10.87</td>\n",
       "      <td>1.10</td>\n",
       "    </tr>\n",
       "    <tr>\n",
       "      <th>4</th>\n",
       "      <td>9.49</td>\n",
       "      <td>10.47</td>\n",
       "      <td>9.70</td>\n",
       "      <td>0.77</td>\n",
       "    </tr>\n",
       "    <tr>\n",
       "      <th>5</th>\n",
       "      <td>9.24</td>\n",
       "      <td>8.65</td>\n",
       "      <td>9.43</td>\n",
       "      <td>0.78</td>\n",
       "    </tr>\n",
       "    <tr>\n",
       "      <th>6</th>\n",
       "      <td>8.28</td>\n",
       "      <td>7.91</td>\n",
       "      <td>8.38</td>\n",
       "      <td>0.47</td>\n",
       "    </tr>\n",
       "    <tr>\n",
       "      <th>7</th>\n",
       "      <td>12.22</td>\n",
       "      <td>11.34</td>\n",
       "      <td>12.68</td>\n",
       "      <td>1.34</td>\n",
       "    </tr>\n",
       "    <tr>\n",
       "      <th>8</th>\n",
       "      <td>10.34</td>\n",
       "      <td>10.08</td>\n",
       "      <td>10.63</td>\n",
       "      <td>0.55</td>\n",
       "    </tr>\n",
       "    <tr>\n",
       "      <th>9</th>\n",
       "      <td>10.74</td>\n",
       "      <td>10.79</td>\n",
       "      <td>11.06</td>\n",
       "      <td>0.27</td>\n",
       "    </tr>\n",
       "    <tr>\n",
       "      <th>10</th>\n",
       "      <td>13.14</td>\n",
       "      <td>14.39</td>\n",
       "      <td>13.69</td>\n",
       "      <td>0.70</td>\n",
       "    </tr>\n",
       "    <tr>\n",
       "      <th>11</th>\n",
       "      <td>8.81</td>\n",
       "      <td>11.57</td>\n",
       "      <td>8.96</td>\n",
       "      <td>2.61</td>\n",
       "    </tr>\n",
       "    <tr>\n",
       "      <th>12</th>\n",
       "      <td>11.61</td>\n",
       "      <td>11.57</td>\n",
       "      <td>12.02</td>\n",
       "      <td>0.45</td>\n",
       "    </tr>\n",
       "    <tr>\n",
       "      <th>13</th>\n",
       "      <td>13.50</td>\n",
       "      <td>13.93</td>\n",
       "      <td>14.08</td>\n",
       "      <td>0.15</td>\n",
       "    </tr>\n",
       "    <tr>\n",
       "      <th>14</th>\n",
       "      <td>15.20</td>\n",
       "      <td>12.85</td>\n",
       "      <td>15.94</td>\n",
       "      <td>3.09</td>\n",
       "    </tr>\n",
       "    <tr>\n",
       "      <th>15</th>\n",
       "      <td>12.54</td>\n",
       "      <td>15.77</td>\n",
       "      <td>13.03</td>\n",
       "      <td>2.74</td>\n",
       "    </tr>\n",
       "    <tr>\n",
       "      <th>16</th>\n",
       "      <td>14.93</td>\n",
       "      <td>14.26</td>\n",
       "      <td>15.64</td>\n",
       "      <td>1.38</td>\n",
       "    </tr>\n",
       "    <tr>\n",
       "      <th>17</th>\n",
       "      <td>13.01</td>\n",
       "      <td>15.82</td>\n",
       "      <td>13.54</td>\n",
       "      <td>2.28</td>\n",
       "    </tr>\n",
       "    <tr>\n",
       "      <th>18</th>\n",
       "      <td>16.20</td>\n",
       "      <td>16.23</td>\n",
       "      <td>17.03</td>\n",
       "      <td>0.80</td>\n",
       "    </tr>\n",
       "    <tr>\n",
       "      <th>19</th>\n",
       "      <td>14.16</td>\n",
       "      <td>18.43</td>\n",
       "      <td>14.80</td>\n",
       "      <td>3.63</td>\n",
       "    </tr>\n",
       "  </tbody>\n",
       "</table>\n",
       "</div>"
      ],
      "text/plain": [
       "        x      y  y_pred  Absolute Error\n",
       "0    8.71   8.41    8.85            0.44\n",
       "1    8.27   6.35    8.37            2.02\n",
       "2   10.13  10.49   10.40            0.09\n",
       "3   10.56   9.77   10.87            1.10\n",
       "4    9.49  10.47    9.70            0.77\n",
       "5    9.24   8.65    9.43            0.78\n",
       "6    8.28   7.91    8.38            0.47\n",
       "7   12.22  11.34   12.68            1.34\n",
       "8   10.34  10.08   10.63            0.55\n",
       "9   10.74  10.79   11.06            0.27\n",
       "10  13.14  14.39   13.69            0.70\n",
       "11   8.81  11.57    8.96            2.61\n",
       "12  11.61  11.57   12.02            0.45\n",
       "13  13.50  13.93   14.08            0.15\n",
       "14  15.20  12.85   15.94            3.09\n",
       "15  12.54  15.77   13.03            2.74\n",
       "16  14.93  14.26   15.64            1.38\n",
       "17  13.01  15.82   13.54            2.28\n",
       "18  16.20  16.23   17.03            0.80\n",
       "19  14.16  18.43   14.80            3.63"
      ]
     },
     "metadata": {},
     "output_type": "display_data"
    }
   ],
   "source": [
    "# calculate absolute error for each entry and put in dataframe\n",
    "df['Absolute Error'] = abs(df.y - df.y_pred)\n",
    "display(df)"
   ]
  },
  {
   "cell_type": "code",
   "execution_count": 6,
   "metadata": {
    "scrolled": true
   },
   "outputs": [
    {
     "data": {
      "text/plain": [
       "[<matplotlib.lines.Line2D at 0x1f1f346ef60>]"
      ]
     },
     "execution_count": 6,
     "metadata": {},
     "output_type": "execute_result"
    }
   ],
   "source": [
    "# plot the (x,y) using scatter and plot the linear regression line using y_pred\n",
    "import matplotlib.pylab as plt\n",
    "plt.scatter(x,y)\n",
    "plt.plot(x,y_pred,color = 'red')"
   ]
  },
  {
   "cell_type": "code",
   "execution_count": null,
   "metadata": {},
   "outputs": [],
   "source": []
  },
  {
   "cell_type": "markdown",
   "metadata": {},
   "source": [
    "### Calculate Errors"
   ]
  },
  {
   "cell_type": "code",
   "execution_count": 7,
   "metadata": {},
   "outputs": [],
   "source": [
    "# define functions for error calculations \n",
    "from math import sqrt\n",
    "def MAE(y_pred,y):\n",
    "    '''\n",
    "    Returns MAE using the actual and predicted target values\n",
    "    '''\n",
    "    return abs(y_pred - y).sum()\n",
    "\n",
    "def RMAE(y_pred,y):\n",
    "    '''\n",
    "    Returns RMAE using the actual and predicted target values\n",
    "    '''\n",
    "    return sqrt(abs(y_pred - y).sum())\n",
    "\n",
    "def MSE(y_pred,y):\n",
    "    '''\n",
    "    Returns MSE using the actual and predicted target values\n",
    "    '''\n",
    "    return ((y_pred - y)**2).sum()\n",
    "\n",
    "def RMSE(y_pred,y):\n",
    "    '''\n",
    "    Returns RMSE using the actual and predicted target values\n",
    "    '''\n",
    "    return sqrt(((y_pred - y)**2).sum())"
   ]
  },
  {
   "cell_type": "code",
   "execution_count": 8,
   "metadata": {},
   "outputs": [
    {
     "name": "stdout",
     "output_type": "stream",
     "text": [
      "MAE:  25.660000000000004\n",
      "RMAE: 5.065570056765576\n",
      "MSE : 54.5878\n",
      "RMSE: 7.388355703402483\n"
     ]
    }
   ],
   "source": [
    "# print the Error values\n",
    "print('MAE: ',MAE(y_pred,pd.Series(y)))\n",
    "print('RMAE:',RMAE(y_pred,pd.Series(y)))\n",
    "print('MSE :',MSE(y_pred,pd.Series(y)))\n",
    "print('RMSE:',RMSE(y_pred,pd.Series(y)))"
   ]
  },
  {
   "cell_type": "code",
   "execution_count": null,
   "metadata": {},
   "outputs": [],
   "source": []
  },
  {
   "cell_type": "code",
   "execution_count": null,
   "metadata": {},
   "outputs": [],
   "source": []
  }
 ],
 "metadata": {
  "kernelspec": {
   "display_name": "Python 3",
   "language": "python",
   "name": "python3"
  },
  "language_info": {
   "codemirror_mode": {
    "name": "ipython",
    "version": 3
   },
   "file_extension": ".py",
   "mimetype": "text/x-python",
   "name": "python",
   "nbconvert_exporter": "python",
   "pygments_lexer": "ipython3",
   "version": "3.7.3"
  }
 },
 "nbformat": 4,
 "nbformat_minor": 2
}
